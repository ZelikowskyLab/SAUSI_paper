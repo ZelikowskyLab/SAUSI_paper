{
  "cells": [
    {
      "cell_type": "markdown",
      "metadata": {
        "id": "view-in-github",
        "colab_type": "text"
      },
      "source": [
        "<a href=\"https://colab.research.google.com/github/ZelikowskyLab/SAUSI_paper/blob/main/FromGUI_Training_and_inference_using_Google_Drive.ipynb\" target=\"_parent\"><img src=\"https://colab.research.google.com/assets/colab-badge.svg\" alt=\"Open In Colab\"/></a>"
      ]
    },
    {
      "cell_type": "markdown",
      "metadata": {
        "id": "3-RBARi6A6j1"
      },
      "source": [
        "# Training and inference on your own data using Google Drive"
      ]
    },
    {
      "cell_type": "markdown",
      "metadata": {
        "id": "K5xp-A8Oc80Q"
      },
      "source": [
        "In this notebook we'll install SLEAP, import training data into Colab using [Google Drive](https://www.google.com/drive), and run training and inference."
      ]
    },
    {
      "cell_type": "markdown",
      "metadata": {
        "id": "yX9noEb8m8re"
      },
      "source": [
        "## Install SLEAP\n",
        "Note: Before installing SLEAP check [SLEAP releases](https://github.com/talmolab/sleap/releases) page for the latest version."
      ]
    },
    {
      "cell_type": "code",
      "execution_count": null,
      "metadata": {
        "colab": {
          "base_uri": "https://localhost:8080/"
        },
        "id": "DUfnkxMtLcK3",
        "outputId": "11ce235f-a147-41a1-c3e8-6554be6f763f"
      },
      "outputs": [
        {
          "output_type": "stream",
          "name": "stdout",
          "text": [
            "\u001b[2K     \u001b[90m━━━━━━━━━━━━━━━━━━━━━━━━━━━━━━━━━━━━━━━━\u001b[0m \u001b[32m1.2/1.2 MB\u001b[0m \u001b[31m11.1 MB/s\u001b[0m eta \u001b[36m0:00:00\u001b[0m\n",
            "\u001b[2K     \u001b[90m━━━━━━━━━━━━━━━━━━━━━━━━━━━━━━━━━━━━━━━━\u001b[0m \u001b[32m904.1/904.1 kB\u001b[0m \u001b[31m20.9 MB/s\u001b[0m eta \u001b[36m0:00:00\u001b[0m\n",
            "\u001b[2K     \u001b[90m━━━━━━━━━━━━━━━━━━━━━━━━━━━━━━━━━━━━━━━━\u001b[0m \u001b[32m88.2/88.2 kB\u001b[0m \u001b[31m11.8 MB/s\u001b[0m eta \u001b[36m0:00:00\u001b[0m\n",
            "\u001b[2K     \u001b[90m━━━━━━━━━━━━━━━━━━━━━━━━━━━━━━━━━━━━━━━━\u001b[0m \u001b[32m134.0/134.0 kB\u001b[0m \u001b[31m17.9 MB/s\u001b[0m eta \u001b[36m0:00:00\u001b[0m\n",
            "\u001b[2K     \u001b[90m━━━━━━━━━━━━━━━━━━━━━━━━━━━━━━━━━━━━━━━━\u001b[0m \u001b[32m60.6/60.6 kB\u001b[0m \u001b[31m8.4 MB/s\u001b[0m eta \u001b[36m0:00:00\u001b[0m\n",
            "\u001b[?25h  Preparing metadata (setup.py) ... \u001b[?25l\u001b[?25hdone\n",
            "\u001b[2K     \u001b[90m━━━━━━━━━━━━━━━━━━━━━━━━━━━━━━━━━━━━━━━━\u001b[0m \u001b[32m16.8/16.8 MB\u001b[0m \u001b[31m32.0 MB/s\u001b[0m eta \u001b[36m0:00:00\u001b[0m\n",
            "\u001b[2K     \u001b[90m━━━━━━━━━━━━━━━━━━━━━━━━━━━━━━━━━━━━━━━━\u001b[0m \u001b[32m60.5/60.5 MB\u001b[0m \u001b[31m8.6 MB/s\u001b[0m eta \u001b[36m0:00:00\u001b[0m\n",
            "\u001b[2K     \u001b[90m━━━━━━━━━━━━━━━━━━━━━━━━━━━━━━━━━━━━━━━━\u001b[0m \u001b[32m3.1/3.1 MB\u001b[0m \u001b[31m103.5 MB/s\u001b[0m eta \u001b[36m0:00:00\u001b[0m\n",
            "\u001b[2K     \u001b[90m━━━━━━━━━━━━━━━━━━━━━━━━━━━━━━━━━━━━━━━━\u001b[0m \u001b[32m228.9/228.9 kB\u001b[0m \u001b[31m27.8 MB/s\u001b[0m eta \u001b[36m0:00:00\u001b[0m\n",
            "\u001b[?25h  Preparing metadata (setup.py) ... \u001b[?25l\u001b[?25hdone\n",
            "\u001b[2K     \u001b[90m━━━━━━━━━━━━━━━━━━━━━━━━━━━━━━━━━━━━━━━━\u001b[0m \u001b[32m93.5/93.5 kB\u001b[0m \u001b[31m11.5 MB/s\u001b[0m eta \u001b[36m0:00:00\u001b[0m\n",
            "\u001b[2K     \u001b[90m━━━━━━━━━━━━━━━━━━━━━━━━━━━━━━━━━━━━━━━━\u001b[0m \u001b[32m214.3/214.3 kB\u001b[0m \u001b[31m25.9 MB/s\u001b[0m eta \u001b[36m0:00:00\u001b[0m\n",
            "\u001b[2K     \u001b[90m━━━━━━━━━━━━━━━━━━━━━━━━━━━━━━━━━━━━━━━━\u001b[0m \u001b[32m43.9/43.9 MB\u001b[0m \u001b[31m18.0 MB/s\u001b[0m eta \u001b[36m0:00:00\u001b[0m\n",
            "\u001b[2K     \u001b[90m━━━━━━━━━━━━━━━━━━━━━━━━━━━━━━━━━━━━━━━━\u001b[0m \u001b[32m26.5/26.5 MB\u001b[0m \u001b[31m64.1 MB/s\u001b[0m eta \u001b[36m0:00:00\u001b[0m\n",
            "\u001b[2K     \u001b[90m━━━━━━━━━━━━━━━━━━━━━━━━━━━━━━━━━━━━━━━━\u001b[0m \u001b[32m2.3/2.3 MB\u001b[0m \u001b[31m100.4 MB/s\u001b[0m eta \u001b[36m0:00:00\u001b[0m\n",
            "\u001b[2K     \u001b[90m━━━━━━━━━━━━━━━━━━━━━━━━━━━━━━━━━━━━━━━━\u001b[0m \u001b[32m90.3/90.3 kB\u001b[0m \u001b[31m9.0 MB/s\u001b[0m eta \u001b[36m0:00:00\u001b[0m\n",
            "\u001b[2K     \u001b[90m━━━━━━━━━━━━━━━━━━━━━━━━━━━━━━━━━━━━━━━━\u001b[0m \u001b[32m143.8/143.8 kB\u001b[0m \u001b[31m18.6 MB/s\u001b[0m eta \u001b[36m0:00:00\u001b[0m\n",
            "\u001b[2K     \u001b[90m━━━━━━━━━━━━━━━━━━━━━━━━━━━━━━━━━━━━━━━━\u001b[0m \u001b[32m1.1/1.1 MB\u001b[0m \u001b[31m70.6 MB/s\u001b[0m eta \u001b[36m0:00:00\u001b[0m\n",
            "\u001b[2K     \u001b[90m━━━━━━━━━━━━━━━━━━━━━━━━━━━━━━━━━━━━━━━━\u001b[0m \u001b[32m156.1/156.1 MB\u001b[0m \u001b[31m6.9 MB/s\u001b[0m eta \u001b[36m0:00:00\u001b[0m\n",
            "\u001b[2K     \u001b[90m━━━━━━━━━━━━━━━━━━━━━━━━━━━━━━━━━━━━━━━━\u001b[0m \u001b[32m498.1/498.1 MB\u001b[0m \u001b[31m3.5 MB/s\u001b[0m eta \u001b[36m0:00:00\u001b[0m\n",
            "\u001b[2K     \u001b[90m━━━━━━━━━━━━━━━━━━━━━━━━━━━━━━━━━━━━━━━━\u001b[0m \u001b[32m1.7/1.7 MB\u001b[0m \u001b[31m86.0 MB/s\u001b[0m eta \u001b[36m0:00:00\u001b[0m\n",
            "\u001b[2K     \u001b[90m━━━━━━━━━━━━━━━━━━━━━━━━━━━━━━━━━━━━━━━━\u001b[0m \u001b[32m51.1/51.1 kB\u001b[0m \u001b[31m6.4 MB/s\u001b[0m eta \u001b[36m0:00:00\u001b[0m\n",
            "\u001b[2K     \u001b[90m━━━━━━━━━━━━━━━━━━━━━━━━━━━━━━━━━━━━━━━━\u001b[0m \u001b[32m332.0/332.0 kB\u001b[0m \u001b[31m36.6 MB/s\u001b[0m eta \u001b[36m0:00:00\u001b[0m\n",
            "\u001b[2K     \u001b[90m━━━━━━━━━━━━━━━━━━━━━━━━━━━━━━━━━━━━━━━━\u001b[0m \u001b[32m832.9/832.9 kB\u001b[0m \u001b[31m70.5 MB/s\u001b[0m eta \u001b[36m0:00:00\u001b[0m\n",
            "\u001b[2K     \u001b[90m━━━━━━━━━━━━━━━━━━━━━━━━━━━━━━━━━━━━━━━━\u001b[0m \u001b[32m42.6/42.6 kB\u001b[0m \u001b[31m5.5 MB/s\u001b[0m eta \u001b[36m0:00:00\u001b[0m\n",
            "\u001b[2K     \u001b[90m━━━━━━━━━━━━━━━━━━━━━━━━━━━━━━━━━━━━━━━━\u001b[0m \u001b[32m5.8/5.8 MB\u001b[0m \u001b[31m106.4 MB/s\u001b[0m eta \u001b[36m0:00:00\u001b[0m\n",
            "\u001b[2K     \u001b[90m━━━━━━━━━━━━━━━━━━━━━━━━━━━━━━━━━━━━━━━━\u001b[0m \u001b[32m462.3/462.3 kB\u001b[0m \u001b[31m46.6 MB/s\u001b[0m eta \u001b[36m0:00:00\u001b[0m\n",
            "\u001b[2K     \u001b[90m━━━━━━━━━━━━━━━━━━━━━━━━━━━━━━━━━━━━━━━━\u001b[0m \u001b[32m1.4/1.4 MB\u001b[0m \u001b[31m78.4 MB/s\u001b[0m eta \u001b[36m0:00:00\u001b[0m\n",
            "\u001b[2K     \u001b[90m━━━━━━━━━━━━━━━━━━━━━━━━━━━━━━━━━━━━━━━━\u001b[0m \u001b[32m50.7/50.7 kB\u001b[0m \u001b[31m6.7 MB/s\u001b[0m eta \u001b[36m0:00:00\u001b[0m\n",
            "\u001b[2K     \u001b[90m━━━━━━━━━━━━━━━━━━━━━━━━━━━━━━━━━━━━━━━━\u001b[0m \u001b[32m116.4/116.4 kB\u001b[0m \u001b[31m15.6 MB/s\u001b[0m eta \u001b[36m0:00:00\u001b[0m\n",
            "\u001b[2K     \u001b[90m━━━━━━━━━━━━━━━━━━━━━━━━━━━━━━━━━━━━━━━━\u001b[0m \u001b[32m4.9/4.9 MB\u001b[0m \u001b[31m59.4 MB/s\u001b[0m eta \u001b[36m0:00:00\u001b[0m\n",
            "\u001b[2K     \u001b[90m━━━━━━━━━━━━━━━━━━━━━━━━━━━━━━━━━━━━━━━━\u001b[0m \u001b[32m781.3/781.3 kB\u001b[0m \u001b[31m63.0 MB/s\u001b[0m eta \u001b[36m0:00:00\u001b[0m\n",
            "\u001b[2K     \u001b[90m━━━━━━━━━━━━━━━━━━━━━━━━━━━━━━━━━━━━━━━━\u001b[0m \u001b[32m84.7/84.7 kB\u001b[0m \u001b[31m11.6 MB/s\u001b[0m eta \u001b[36m0:00:00\u001b[0m\n",
            "\u001b[2K     \u001b[90m━━━━━━━━━━━━━━━━━━━━━━━━━━━━━━━━━━━━━━━━\u001b[0m \u001b[32m83.3/83.3 kB\u001b[0m \u001b[31m11.4 MB/s\u001b[0m eta \u001b[36m0:00:00\u001b[0m\n",
            "\u001b[2K     \u001b[90m━━━━━━━━━━━━━━━━━━━━━━━━━━━━━━━━━━━━━━━━\u001b[0m \u001b[32m83.4/83.4 kB\u001b[0m \u001b[31m10.7 MB/s\u001b[0m eta \u001b[36m0:00:00\u001b[0m\n",
            "\u001b[2K     \u001b[90m━━━━━━━━━━━━━━━━━━━━━━━━━━━━━━━━━━━━━━━━\u001b[0m \u001b[32m83.2/83.2 kB\u001b[0m \u001b[31m10.8 MB/s\u001b[0m eta \u001b[36m0:00:00\u001b[0m\n",
            "\u001b[2K     \u001b[90m━━━━━━━━━━━━━━━━━━━━━━━━━━━━━━━━━━━━━━━━\u001b[0m \u001b[32m82.5/82.5 kB\u001b[0m \u001b[31m10.8 MB/s\u001b[0m eta \u001b[36m0:00:00\u001b[0m\n",
            "\u001b[2K     \u001b[90m━━━━━━━━━━━━━━━━━━━━━━━━━━━━━━━━━━━━━━━━\u001b[0m \u001b[32m81.0/81.0 kB\u001b[0m \u001b[31m10.0 MB/s\u001b[0m eta \u001b[36m0:00:00\u001b[0m\n",
            "\u001b[2K     \u001b[90m━━━━━━━━━━━━━━━━━━━━━━━━━━━━━━━━━━━━━━━━\u001b[0m \u001b[32m81.0/81.0 kB\u001b[0m \u001b[31m10.6 MB/s\u001b[0m eta \u001b[36m0:00:00\u001b[0m\n",
            "\u001b[2K     \u001b[90m━━━━━━━━━━━━━━━━━━━━━━━━━━━━━━━━━━━━━━━━\u001b[0m \u001b[32m80.8/80.8 kB\u001b[0m \u001b[31m10.1 MB/s\u001b[0m eta \u001b[36m0:00:00\u001b[0m\n",
            "\u001b[2K     \u001b[90m━━━━━━━━━━━━━━━━━━━━━━━━━━━━━━━━━━━━━━━━\u001b[0m \u001b[32m80.7/80.7 kB\u001b[0m \u001b[31m10.0 MB/s\u001b[0m eta \u001b[36m0:00:00\u001b[0m\n",
            "\u001b[2K     \u001b[90m━━━━━━━━━━━━━━━━━━━━━━━━━━━━━━━━━━━━━━━━\u001b[0m \u001b[32m81.5/81.5 kB\u001b[0m \u001b[31m11.1 MB/s\u001b[0m eta \u001b[36m0:00:00\u001b[0m\n",
            "\u001b[2K     \u001b[90m━━━━━━━━━━━━━━━━━━━━━━━━━━━━━━━━━━━━━━━━\u001b[0m \u001b[32m90.4/90.4 kB\u001b[0m \u001b[31m10.0 MB/s\u001b[0m eta \u001b[36m0:00:00\u001b[0m\n",
            "\u001b[2K     \u001b[90m━━━━━━━━━━━━━━━━━━━━━━━━━━━━━━━━━━━━━━━━\u001b[0m \u001b[32m117.7/117.7 kB\u001b[0m \u001b[31m16.1 MB/s\u001b[0m eta \u001b[36m0:00:00\u001b[0m\n",
            "\u001b[2K     \u001b[90m━━━━━━━━━━━━━━━━━━━━━━━━━━━━━━━━━━━━━━━━\u001b[0m \u001b[32m526.7/526.7 kB\u001b[0m \u001b[31m52.0 MB/s\u001b[0m eta \u001b[36m0:00:00\u001b[0m\n",
            "\u001b[?25h  Building wheel for pykalman (setup.py) ... \u001b[?25l\u001b[?25hdone\n",
            "  Building wheel for jsmin (setup.py) ... \u001b[?25l\u001b[?25hdone\n",
            "\u001b[31mERROR: pip's dependency resolver does not currently take into account all the packages that are installed. This behaviour is the source of the following dependency conflicts.\n",
            "lida 0.0.10 requires fastapi, which is not installed.\n",
            "lida 0.0.10 requires kaleido, which is not installed.\n",
            "lida 0.0.10 requires python-multipart, which is not installed.\n",
            "lida 0.0.10 requires uvicorn, which is not installed.\n",
            "bigframes 0.13.0 requires scikit-learn>=1.2.2, but you have scikit-learn 1.0.2 which is incompatible.\n",
            "fastai 2.7.13 requires pillow>=9.0.0, but you have pillow 8.4.0 which is incompatible.\n",
            "flax 0.7.5 requires rich>=11.1, but you have rich 10.16.1 which is incompatible.\n",
            "ibis-framework 6.2.0 requires rich<14,>=12.4.4, but you have rich 10.16.1 which is incompatible.\n",
            "plotnine 0.12.4 requires numpy>=1.23.0, but you have numpy 1.22.4 which is incompatible.\n",
            "referencing 0.31.0 requires attrs>=22.2.0, but you have attrs 21.4.0 which is incompatible.\n",
            "tensorflow-datasets 4.9.3 requires protobuf>=3.20, but you have protobuf 3.19.6 which is incompatible.\n",
            "tensorflow-metadata 1.14.0 requires protobuf<4.21,>=3.20.3, but you have protobuf 3.19.6 which is incompatible.\u001b[0m\u001b[31m\n",
            "\u001b[0m"
          ]
        }
      ],
      "source": [
        "!pip uninstall -qqq -y opencv-python opencv-contrib-python\n",
        "!pip install -qqq \"sleap[pypi]>=1.3.3\""
      ]
    },
    {
      "cell_type": "markdown",
      "metadata": {
        "id": "iq7jrgUksLtR"
      },
      "source": [
        "## Import training data into Colab with Google Drive\n",
        "We'll first prepare and export the training data from SLEAP, then upload it to Google Drive, and then mount Google Drive  into this Colab notebook."
      ]
    },
    {
      "cell_type": "markdown",
      "metadata": {
        "id": "GwpEwrxYdLMR"
      },
      "source": [
        "### Create and export the training job package\n",
        "A self-contained **training job package** contains a .slp file with labeled data and images which will be used for training, as well as .json training configuration file(s).\n",
        "\n",
        "A training job package can be exported in the SLEAP GUI fron the \"Run Training..\" dialog under the \"Predict\" menu."
      ]
    },
    {
      "cell_type": "markdown",
      "metadata": {
        "id": "ApaDWxW4dLMS"
      },
      "source": [
        "### Upload training job package to Google Drive\n",
        "To be consistent with the examples in this notebook, name the SLEAP project `colab` and create a directory called `sleap` in the root of your Google Drive. Then upload the exported training job package `colab.slp.training_job.zip` into `sleap` directory.\n",
        "\n",
        "If you place your training pckage somewhere else, or name it differently, adjust the paths/filenames/parameters below accordingly."
      ]
    },
    {
      "cell_type": "markdown",
      "metadata": {
        "id": "3HCGgy4kdLMS",
        "tags": []
      },
      "source": [
        "### Mount your Google Drive\n",
        "Mounting your Google Drive will allow you to accessed the uploaded training job package in this notebook. When prompted to log into your Google account, give Colab access and the copy the authorization code into a field below (+ hit 'return')."
      ]
    },
    {
      "cell_type": "code",
      "execution_count": null,
      "metadata": {
        "colab": {
          "base_uri": "https://localhost:8080/"
        },
        "id": "GBWjF4jpMG2N",
        "outputId": "6889aaa8-2c47-4705-f63f-19d8a6cd90d6"
      },
      "outputs": [
        {
          "output_type": "stream",
          "name": "stdout",
          "text": [
            "Mounted at /content/drive/\n"
          ]
        }
      ],
      "source": [
        "from google.colab import drive\n",
        "drive.mount('/content/drive/')"
      ]
    },
    {
      "cell_type": "markdown",
      "metadata": {
        "id": "KQhv_gsdJzaq"
      },
      "source": [
        "Let's set your current working directory to the directory with your training job package and unpack it there. Later on the output from training (i.e., the models) and from interence (i.e., predictions) will all be saved in this directory as well."
      ]
    },
    {
      "cell_type": "code",
      "execution_count": null,
      "metadata": {
        "id": "9umui-gI2rBz",
        "colab": {
          "base_uri": "https://localhost:8080/"
        },
        "outputId": "edf6dd10-8165-49a9-8c26-9e6465c32ca7"
      },
      "outputs": [
        {
          "output_type": "stream",
          "name": "stdout",
          "text": [
            "Archive:  colab.slp.training_job.zip\n",
            "  inflating: inference-script.sh     \n",
            "  inflating: jobs.yaml               \n",
            "  inflating: labels.v001.pkg.slp     \n",
            "  inflating: multi_instance.json     \n",
            "  inflating: train-script.sh         \n",
            "colab.slp.training_job.zip  jobs.yaml\t\t multi_instance.json  train-script.sh\n",
            "inference-script.sh\t    labels.v001.pkg.slp  sausi_8bp_nov24\n"
          ]
        }
      ],
      "source": [
        "import os\n",
        "os.chdir(\"/content/drive/My Drive/sleap\")\n",
        "!unzip colab.slp.training_job.zip\n",
        "!ls"
      ]
    },
    {
      "cell_type": "markdown",
      "metadata": {
        "id": "xZ-sr67av5uu"
      },
      "source": [
        "## Train a model\n",
        "\n",
        "Let's train a model with the training profile (.json file) and the project data (.slp file) you have exported from SLEAP.\n",
        "\n",
        "\n",
        "### Note on training profiles\n",
        "Depending on the pipeline you chose in the training dialog, the config filename(s) will be:\n",
        "\n",
        "- for a **bottom-up** pipeline approach: `multi_instance.json` (this is the pipeline we assume here),\n",
        "\n",
        "- for a **top-down** pipeline, you'll have a different profile for each of the models: `centroid.json` and `centered_instance.json`,\n",
        "\n",
        "- for a **single animal** pipeline: `single_instance.json`.\n",
        "\n",
        "\n",
        "### Note on training process\n",
        "When you start training, you'll first see the training parameters and then the training and validation loss for each training epoch.\n",
        "\n",
        "As soon as you're satisfied with the validation loss you see for an epoch during training, you're welcome to stop training by clicking the stop button. The version of the model with the lowest validation loss is saved during training, and that's what will be used for inference.\n",
        "\n",
        "If you don't stop training, it will run for 200 epochs or until validation loss fails to improve for some number of epochs (controlled by the early_stopping fields in the training profile)."
      ]
    },
    {
      "cell_type": "code",
      "execution_count": null,
      "metadata": {
        "id": "QKf6qzMqNBUi",
        "colab": {
          "base_uri": "https://localhost:8080/"
        },
        "outputId": "c3626616-09d5-435a-d17b-6c6d62bd1cef"
      },
      "outputs": [
        {
          "output_type": "stream",
          "name": "stdout",
          "text": [
            "INFO:numexpr.utils:NumExpr defaulting to 2 threads.\n",
            "INFO:sleap.nn.training:Versions:\n",
            "SLEAP: 1.3.3\n",
            "TensorFlow: 2.8.4\n",
            "Numpy: 1.22.4\n",
            "Python: 3.10.12\n",
            "OS: Linux-5.15.120+-x86_64-with-glibc2.35\n",
            "INFO:sleap.nn.training:Training labels file: colab.pkg.slp\n",
            "INFO:sleap.nn.training:Training profile: /usr/local/lib/python3.10/dist-packages/sleap/training_profiles/baseline_medium_rf.bottomup.json\n",
            "INFO:sleap.nn.training:\n",
            "INFO:sleap.nn.training:Arguments:\n",
            "INFO:sleap.nn.training:{\n",
            "    \"training_job_path\": \"baseline_medium_rf.bottomup.json\",\n",
            "    \"labels_path\": \"colab.pkg.slp\",\n",
            "    \"video_paths\": [\n",
            "        \"\"\n",
            "    ],\n",
            "    \"val_labels\": null,\n",
            "    \"test_labels\": null,\n",
            "    \"base_checkpoint\": null,\n",
            "    \"tensorboard\": false,\n",
            "    \"save_viz\": false,\n",
            "    \"zmq\": false,\n",
            "    \"run_name\": \"\",\n",
            "    \"prefix\": \"\",\n",
            "    \"suffix\": \"\",\n",
            "    \"cpu\": false,\n",
            "    \"first_gpu\": false,\n",
            "    \"last_gpu\": false,\n",
            "    \"gpu\": \"auto\"\n",
            "}\n",
            "INFO:sleap.nn.training:\n",
            "INFO:sleap.nn.training:Training job:\n",
            "INFO:sleap.nn.training:{\n",
            "    \"data\": {\n",
            "        \"labels\": {\n",
            "            \"training_labels\": null,\n",
            "            \"validation_labels\": null,\n",
            "            \"validation_fraction\": 0.1,\n",
            "            \"test_labels\": null,\n",
            "            \"split_by_inds\": false,\n",
            "            \"training_inds\": null,\n",
            "            \"validation_inds\": null,\n",
            "            \"test_inds\": null,\n",
            "            \"search_path_hints\": [],\n",
            "            \"skeletons\": []\n",
            "        },\n",
            "        \"preprocessing\": {\n",
            "            \"ensure_rgb\": false,\n",
            "            \"ensure_grayscale\": false,\n",
            "            \"imagenet_mode\": null,\n",
            "            \"input_scaling\": 1.0,\n",
            "            \"pad_to_stride\": null,\n",
            "            \"resize_and_pad_to_target\": true,\n",
            "            \"target_height\": null,\n",
            "            \"target_width\": null\n",
            "        },\n",
            "        \"instance_cropping\": {\n",
            "            \"center_on_part\": null,\n",
            "            \"crop_size\": null,\n",
            "            \"crop_size_detection_padding\": 16\n",
            "        }\n",
            "    },\n",
            "    \"model\": {\n",
            "        \"backbone\": {\n",
            "            \"leap\": null,\n",
            "            \"unet\": {\n",
            "                \"stem_stride\": null,\n",
            "                \"max_stride\": 32,\n",
            "                \"output_stride\": 4,\n",
            "                \"filters\": 16,\n",
            "                \"filters_rate\": 2.0,\n",
            "                \"middle_block\": true,\n",
            "                \"up_interpolate\": true,\n",
            "                \"stacks\": 1\n",
            "            },\n",
            "            \"hourglass\": null,\n",
            "            \"resnet\": null,\n",
            "            \"pretrained_encoder\": null\n",
            "        },\n",
            "        \"heads\": {\n",
            "            \"single_instance\": null,\n",
            "            \"centroid\": null,\n",
            "            \"centered_instance\": null,\n",
            "            \"multi_instance\": {\n",
            "                \"confmaps\": {\n",
            "                    \"part_names\": null,\n",
            "                    \"sigma\": 2.5,\n",
            "                    \"output_stride\": 4,\n",
            "                    \"loss_weight\": 1.0,\n",
            "                    \"offset_refinement\": false\n",
            "                },\n",
            "                \"pafs\": {\n",
            "                    \"edges\": null,\n",
            "                    \"sigma\": 75.0,\n",
            "                    \"output_stride\": 8,\n",
            "                    \"loss_weight\": 1.0\n",
            "                }\n",
            "            },\n",
            "            \"multi_class_bottomup\": null,\n",
            "            \"multi_class_topdown\": null\n",
            "        },\n",
            "        \"base_checkpoint\": null\n",
            "    },\n",
            "    \"optimization\": {\n",
            "        \"preload_data\": true,\n",
            "        \"augmentation_config\": {\n",
            "            \"rotate\": true,\n",
            "            \"rotation_min_angle\": -15.0,\n",
            "            \"rotation_max_angle\": 15.0,\n",
            "            \"translate\": false,\n",
            "            \"translate_min\": -5,\n",
            "            \"translate_max\": 5,\n",
            "            \"scale\": false,\n",
            "            \"scale_min\": 0.9,\n",
            "            \"scale_max\": 1.1,\n",
            "            \"uniform_noise\": false,\n",
            "            \"uniform_noise_min_val\": 0.0,\n",
            "            \"uniform_noise_max_val\": 10.0,\n",
            "            \"gaussian_noise\": false,\n",
            "            \"gaussian_noise_mean\": 5.0,\n",
            "            \"gaussian_noise_stddev\": 1.0,\n",
            "            \"contrast\": false,\n",
            "            \"contrast_min_gamma\": 0.5,\n",
            "            \"contrast_max_gamma\": 2.0,\n",
            "            \"brightness\": false,\n",
            "            \"brightness_min_val\": 0.0,\n",
            "            \"brightness_max_val\": 10.0,\n",
            "            \"random_crop\": false,\n",
            "            \"random_crop_height\": 256,\n",
            "            \"random_crop_width\": 256,\n",
            "            \"random_flip\": false,\n",
            "            \"flip_horizontal\": true\n",
            "        },\n",
            "        \"online_shuffling\": true,\n",
            "        \"shuffle_buffer_size\": 128,\n",
            "        \"prefetch\": true,\n",
            "        \"batch_size\": 4,\n",
            "        \"batches_per_epoch\": null,\n",
            "        \"min_batches_per_epoch\": 200,\n",
            "        \"val_batches_per_epoch\": null,\n",
            "        \"min_val_batches_per_epoch\": 10,\n",
            "        \"epochs\": 200,\n",
            "        \"optimizer\": \"adam\",\n",
            "        \"initial_learning_rate\": 0.0001,\n",
            "        \"learning_rate_schedule\": {\n",
            "            \"reduce_on_plateau\": true,\n",
            "            \"reduction_factor\": 0.5,\n",
            "            \"plateau_min_delta\": 1e-08,\n",
            "            \"plateau_patience\": 8,\n",
            "            \"plateau_cooldown\": 3,\n",
            "            \"min_learning_rate\": 1e-08\n",
            "        },\n",
            "        \"hard_keypoint_mining\": {\n",
            "            \"online_mining\": false,\n",
            "            \"hard_to_easy_ratio\": 2.0,\n",
            "            \"min_hard_keypoints\": 2,\n",
            "            \"max_hard_keypoints\": null,\n",
            "            \"loss_scale\": 5.0\n",
            "        },\n",
            "        \"early_stopping\": {\n",
            "            \"stop_training_on_plateau\": true,\n",
            "            \"plateau_min_delta\": 1e-08,\n",
            "            \"plateau_patience\": 10\n",
            "        }\n",
            "    },\n",
            "    \"outputs\": {\n",
            "        \"save_outputs\": true,\n",
            "        \"run_name\": \"baseline_medium_rf.bottomup\",\n",
            "        \"run_name_prefix\": \"\",\n",
            "        \"run_name_suffix\": null,\n",
            "        \"runs_folder\": \"models\",\n",
            "        \"tags\": [],\n",
            "        \"save_visualizations\": true,\n",
            "        \"delete_viz_images\": true,\n",
            "        \"zip_outputs\": false,\n",
            "        \"log_to_csv\": true,\n",
            "        \"checkpointing\": {\n",
            "            \"initial_model\": false,\n",
            "            \"best_model\": true,\n",
            "            \"every_epoch\": false,\n",
            "            \"latest_model\": false,\n",
            "            \"final_model\": false\n",
            "        },\n",
            "        \"tensorboard\": {\n",
            "            \"write_logs\": false,\n",
            "            \"loss_frequency\": \"epoch\",\n",
            "            \"architecture_graph\": false,\n",
            "            \"profile_graph\": false,\n",
            "            \"visualizations\": true\n",
            "        },\n",
            "        \"zmq\": {\n",
            "            \"subscribe_to_controller\": false,\n",
            "            \"controller_address\": \"tcp://127.0.0.1:9000\",\n",
            "            \"controller_polling_timeout\": 10,\n",
            "            \"publish_updates\": false,\n",
            "            \"publish_address\": \"tcp://127.0.0.1:9001\"\n",
            "        }\n",
            "    },\n",
            "    \"name\": \"\",\n",
            "    \"description\": \"\",\n",
            "    \"sleap_version\": \"1.3.3\",\n",
            "    \"filename\": \"/usr/local/lib/python3.10/dist-packages/sleap/training_profiles/baseline_medium_rf.bottomup.json\"\n",
            "}\n",
            "INFO:sleap.nn.training:\n",
            "INFO:sleap.nn.training:Auto-selected GPU 0 with 15098 MiB of free memory.\n",
            "INFO:sleap.nn.training:Using GPU 0 for acceleration.\n",
            "INFO:sleap.nn.training:Disabled GPU memory pre-allocation.\n",
            "INFO:sleap.nn.training:System:\n",
            "GPUs: 1/1 available\n",
            "  Device: /physical_device:GPU:0\n",
            "         Available: True\n",
            "        Initalized: False\n",
            "     Memory growth: True\n",
            "INFO:sleap.nn.training:\n",
            "INFO:sleap.nn.training:Initializing trainer...\n",
            "INFO:sleap.nn.training:Loading training labels from: colab.pkg.slp\n",
            "INFO:sleap.nn.training:Creating training and validation splits from validation fraction: 0.1\n",
            "INFO:sleap.nn.training:  Splits: Training = 322 / Validation = 36.\n",
            "INFO:sleap.nn.training:Setting up for training...\n",
            "INFO:sleap.nn.training:Setting up pipeline builders...\n",
            "INFO:sleap.nn.training:Setting up model...\n",
            "INFO:sleap.nn.training:Building test pipeline...\n",
            "INFO:sleap.nn.training:Loaded test example. [2.308s]\n",
            "INFO:sleap.nn.training:  Input shape: (960, 1280, 1)\n",
            "INFO:sleap.nn.training:Created Keras model.\n",
            "INFO:sleap.nn.training:  Backbone: UNet(stacks=1, filters=16, filters_rate=2.0, kernel_size=3, stem_kernel_size=7, convs_per_block=2, stem_blocks=0, down_blocks=5, middle_block=True, up_blocks=3, up_interpolate=True, block_contraction=False)\n",
            "INFO:sleap.nn.training:  Max stride: 32\n",
            "INFO:sleap.nn.training:  Parameters: 7,818,762\n",
            "INFO:sleap.nn.training:  Heads: \n",
            "INFO:sleap.nn.training:    [0] = MultiInstanceConfmapsHead(part_names=['nose', 'earL', 'earR', 'Center', 'CenterR', 'CenterL', 'tailB', 'tailT'], sigma=2.5, output_stride=4, loss_weight=1.0)\n",
            "INFO:sleap.nn.training:    [1] = PartAffinityFieldsHead(edges=[('nose', 'earL'), ('nose', 'earR'), ('nose', 'Center'), ('earL', 'CenterL'), ('earR', 'CenterR'), ('Center', 'tailB'), ('tailB', 'tailT'), ('CenterR', 'tailB'), ('CenterL', 'tailB')], sigma=75.0, output_stride=8, loss_weight=1.0)\n",
            "INFO:sleap.nn.training:  Outputs: \n",
            "INFO:sleap.nn.training:    [0] = KerasTensor(type_spec=TensorSpec(shape=(None, 240, 320, 8), dtype=tf.float32, name=None), name='MultiInstanceConfmapsHead/BiasAdd:0', description=\"created by layer 'MultiInstanceConfmapsHead'\")\n",
            "INFO:sleap.nn.training:    [1] = KerasTensor(type_spec=TensorSpec(shape=(None, 120, 160, 18), dtype=tf.float32, name=None), name='PartAffinityFieldsHead/BiasAdd:0', description=\"created by layer 'PartAffinityFieldsHead'\")\n",
            "INFO:sleap.nn.training:Training from scratch\n",
            "INFO:sleap.nn.training:Setting up data pipelines...\n",
            "INFO:sleap.nn.training:Training set: n = 322\n",
            "INFO:sleap.nn.training:Validation set: n = 36\n",
            "INFO:sleap.nn.training:Setting up optimization...\n",
            "INFO:sleap.nn.training:  Learning rate schedule: LearningRateScheduleConfig(reduce_on_plateau=True, reduction_factor=0.5, plateau_min_delta=1e-08, plateau_patience=8, plateau_cooldown=3, min_learning_rate=1e-08)\n",
            "INFO:sleap.nn.training:  Early stopping: EarlyStoppingConfig(stop_training_on_plateau=True, plateau_min_delta=1e-08, plateau_patience=10)\n",
            "INFO:sleap.nn.training:Setting up outputs...\n",
            "INFO:sleap.nn.training:Created run path: models/baseline_medium_rf.bottomup\n",
            "INFO:sleap.nn.training:Setting up visualization...\n",
            "2023-11-28 17:28:10.667464: W tensorflow/core/grappler/costs/op_level_cost_estimator.cc:690] Error in PredictCost() for the op: op: \"CropAndResize\" attr { key: \"T\" value { type: DT_FLOAT } } attr { key: \"extrapolation_value\" value { f: 0 } } attr { key: \"method\" value { s: \"bilinear\" } } inputs { dtype: DT_FLOAT shape { dim { size: -33 } dim { size: -34 } dim { size: -35 } dim { size: 1 } } } inputs { dtype: DT_FLOAT shape { dim { size: -2 } dim { size: 4 } } } inputs { dtype: DT_INT32 shape { dim { size: -2 } } } inputs { dtype: DT_INT32 shape { dim { size: 2 } } } device { type: \"GPU\" vendor: \"NVIDIA\" model: \"Tesla T4\" frequency: 1590 num_cores: 40 environment { key: \"architecture\" value: \"7.5\" } environment { key: \"cuda\" value: \"11020\" } environment { key: \"cudnn\" value: \"8100\" } num_registers: 65536 l1_cache_size: 24576 l2_cache_size: 4194304 shared_memory_size_per_multiprocessor: 65536 memory_size: 14433452032 bandwidth: 320064000 } outputs { dtype: DT_FLOAT shape { dim { size: -2 } dim { size: -36 } dim { size: -37 } dim { size: 1 } } }\n",
            "2023-11-28 17:28:12.340165: W tensorflow/core/grappler/costs/op_level_cost_estimator.cc:690] Error in PredictCost() for the op: op: \"CropAndResize\" attr { key: \"T\" value { type: DT_FLOAT } } attr { key: \"extrapolation_value\" value { f: 0 } } attr { key: \"method\" value { s: \"bilinear\" } } inputs { dtype: DT_FLOAT shape { dim { size: -33 } dim { size: -34 } dim { size: -35 } dim { size: 1 } } } inputs { dtype: DT_FLOAT shape { dim { size: -2 } dim { size: 4 } } } inputs { dtype: DT_INT32 shape { dim { size: -2 } } } inputs { dtype: DT_INT32 shape { dim { size: 2 } } } device { type: \"GPU\" vendor: \"NVIDIA\" model: \"Tesla T4\" frequency: 1590 num_cores: 40 environment { key: \"architecture\" value: \"7.5\" } environment { key: \"cuda\" value: \"11020\" } environment { key: \"cudnn\" value: \"8100\" } num_registers: 65536 l1_cache_size: 24576 l2_cache_size: 4194304 shared_memory_size_per_multiprocessor: 65536 memory_size: 14433452032 bandwidth: 320064000 } outputs { dtype: DT_FLOAT shape { dim { size: -2 } dim { size: -36 } dim { size: -37 } dim { size: 1 } } }\n",
            "Unable to use Qt backend for matplotlib. This probably means Qt is running headless.\n",
            "Unable to use Qt backend for matplotlib. This probably means Qt is running headless.\n",
            "Unable to use Qt backend for matplotlib. This probably means Qt is running headless.\n",
            "Unable to use Qt backend for matplotlib. This probably means Qt is running headless.\n",
            "INFO:sleap.nn.training:Finished trainer set up. [6.6s]\n",
            "INFO:sleap.nn.training:Creating tf.data.Datasets for training data generation...\n",
            "INFO:sleap.nn.training:Finished creating training datasets. [9.2s]\n",
            "INFO:sleap.nn.training:Starting training loop...\n",
            "Epoch 1/200\n",
            "2023-11-28 17:28:24.123164: W tensorflow/core/framework/cpu_allocator_impl.cc:82] Allocation of 39321608 exceeds 10% of free system memory.\n",
            "2023-11-28 17:28:24.161048: W tensorflow/core/framework/cpu_allocator_impl.cc:82] Allocation of 19660800 exceeds 10% of free system memory.\n",
            "2023-11-28 17:28:24.228975: W tensorflow/core/framework/cpu_allocator_impl.cc:82] Allocation of 19660800 exceeds 10% of free system memory.\n",
            "2023-11-28 17:28:24.459025: W tensorflow/core/framework/cpu_allocator_impl.cc:82] Allocation of 39321608 exceeds 10% of free system memory.\n",
            "2023-11-28 17:28:24.511682: W tensorflow/core/framework/cpu_allocator_impl.cc:82] Allocation of 19660800 exceeds 10% of free system memory.\n",
            "200/200 - 166s - loss: 0.0010 - MultiInstanceConfmapsHead_loss: 4.6968e-04 - PartAffinityFieldsHead_loss: 5.6528e-04 - val_loss: 0.0011 - val_MultiInstanceConfmapsHead_loss: 4.8320e-04 - val_PartAffinityFieldsHead_loss: 5.8126e-04 - lr: 1.0000e-04 - 166s/epoch - 828ms/step\n",
            "Epoch 2/200\n",
            "200/200 - 146s - loss: 9.9479e-04 - MultiInstanceConfmapsHead_loss: 4.3601e-04 - PartAffinityFieldsHead_loss: 5.5879e-04 - val_loss: 9.7129e-04 - val_MultiInstanceConfmapsHead_loss: 4.1901e-04 - val_PartAffinityFieldsHead_loss: 5.5229e-04 - lr: 1.0000e-04 - 146s/epoch - 732ms/step\n",
            "Epoch 3/200\n",
            "200/200 - 154s - loss: 9.4652e-04 - MultiInstanceConfmapsHead_loss: 4.0951e-04 - PartAffinityFieldsHead_loss: 5.3701e-04 - val_loss: 9.4851e-04 - val_MultiInstanceConfmapsHead_loss: 4.1053e-04 - val_PartAffinityFieldsHead_loss: 5.3798e-04 - lr: 1.0000e-04 - 154s/epoch - 768ms/step\n",
            "Epoch 4/200\n",
            "200/200 - 143s - loss: 9.0787e-04 - MultiInstanceConfmapsHead_loss: 3.9028e-04 - PartAffinityFieldsHead_loss: 5.1758e-04 - val_loss: 9.0291e-04 - val_MultiInstanceConfmapsHead_loss: 3.8552e-04 - val_PartAffinityFieldsHead_loss: 5.1739e-04 - lr: 1.0000e-04 - 143s/epoch - 716ms/step\n",
            "Epoch 5/200\n",
            "200/200 - 143s - loss: 8.7390e-04 - MultiInstanceConfmapsHead_loss: 3.7638e-04 - PartAffinityFieldsHead_loss: 4.9752e-04 - val_loss: 8.7503e-04 - val_MultiInstanceConfmapsHead_loss: 3.7594e-04 - val_PartAffinityFieldsHead_loss: 4.9909e-04 - lr: 1.0000e-04 - 143s/epoch - 717ms/step\n",
            "Epoch 6/200\n",
            "200/200 - 143s - loss: 8.6272e-04 - MultiInstanceConfmapsHead_loss: 3.7218e-04 - PartAffinityFieldsHead_loss: 4.9054e-04 - val_loss: 8.7412e-04 - val_MultiInstanceConfmapsHead_loss: 3.7562e-04 - val_PartAffinityFieldsHead_loss: 4.9851e-04 - lr: 1.0000e-04 - 143s/epoch - 713ms/step\n",
            "Epoch 7/200\n",
            "200/200 - 142s - loss: 8.4416e-04 - MultiInstanceConfmapsHead_loss: 3.6239e-04 - PartAffinityFieldsHead_loss: 4.8176e-04 - val_loss: 8.6095e-04 - val_MultiInstanceConfmapsHead_loss: 3.6986e-04 - val_PartAffinityFieldsHead_loss: 4.9109e-04 - lr: 1.0000e-04 - 142s/epoch - 712ms/step\n",
            "Epoch 8/200\n",
            "200/200 - 142s - loss: 8.3604e-04 - MultiInstanceConfmapsHead_loss: 3.5863e-04 - PartAffinityFieldsHead_loss: 4.7741e-04 - val_loss: 8.5113e-04 - val_MultiInstanceConfmapsHead_loss: 3.6197e-04 - val_PartAffinityFieldsHead_loss: 4.8916e-04 - lr: 1.0000e-04 - 142s/epoch - 711ms/step\n",
            "Epoch 9/200\n",
            "200/200 - 143s - loss: 8.1145e-04 - MultiInstanceConfmapsHead_loss: 3.4730e-04 - PartAffinityFieldsHead_loss: 4.6415e-04 - val_loss: 8.2760e-04 - val_MultiInstanceConfmapsHead_loss: 3.5822e-04 - val_PartAffinityFieldsHead_loss: 4.6938e-04 - lr: 1.0000e-04 - 143s/epoch - 714ms/step\n",
            "Epoch 10/200\n",
            "200/200 - 148s - loss: 7.7932e-04 - MultiInstanceConfmapsHead_loss: 3.3626e-04 - PartAffinityFieldsHead_loss: 4.4306e-04 - val_loss: 7.5771e-04 - val_MultiInstanceConfmapsHead_loss: 3.2704e-04 - val_PartAffinityFieldsHead_loss: 4.3066e-04 - lr: 1.0000e-04 - 148s/epoch - 739ms/step\n",
            "Epoch 11/200\n",
            "200/200 - 146s - loss: 7.3627e-04 - MultiInstanceConfmapsHead_loss: 3.1791e-04 - PartAffinityFieldsHead_loss: 4.1836e-04 - val_loss: 7.3048e-04 - val_MultiInstanceConfmapsHead_loss: 3.1264e-04 - val_PartAffinityFieldsHead_loss: 4.1784e-04 - lr: 1.0000e-04 - 146s/epoch - 729ms/step\n",
            "Epoch 12/200\n",
            "200/200 - 151s - loss: 6.8203e-04 - MultiInstanceConfmapsHead_loss: 2.9060e-04 - PartAffinityFieldsHead_loss: 3.9143e-04 - val_loss: 6.7470e-04 - val_MultiInstanceConfmapsHead_loss: 2.8064e-04 - val_PartAffinityFieldsHead_loss: 3.9405e-04 - lr: 1.0000e-04 - 151s/epoch - 754ms/step\n",
            "Epoch 13/200\n",
            "200/200 - 150s - loss: 6.2338e-04 - MultiInstanceConfmapsHead_loss: 2.5978e-04 - PartAffinityFieldsHead_loss: 3.6360e-04 - val_loss: 6.1082e-04 - val_MultiInstanceConfmapsHead_loss: 2.4645e-04 - val_PartAffinityFieldsHead_loss: 3.6437e-04 - lr: 1.0000e-04 - 150s/epoch - 748ms/step\n",
            "Epoch 14/200\n",
            "200/200 - 134s - loss: 5.6378e-04 - MultiInstanceConfmapsHead_loss: 2.2969e-04 - PartAffinityFieldsHead_loss: 3.3408e-04 - val_loss: 5.7450e-04 - val_MultiInstanceConfmapsHead_loss: 2.3438e-04 - val_PartAffinityFieldsHead_loss: 3.4012e-04 - lr: 1.0000e-04 - 134s/epoch - 671ms/step\n",
            "Epoch 15/200\n",
            "200/200 - 142s - loss: 5.0956e-04 - MultiInstanceConfmapsHead_loss: 2.0467e-04 - PartAffinityFieldsHead_loss: 3.0489e-04 - val_loss: 5.9588e-04 - val_MultiInstanceConfmapsHead_loss: 2.4738e-04 - val_PartAffinityFieldsHead_loss: 3.4849e-04 - lr: 1.0000e-04 - 142s/epoch - 710ms/step\n",
            "Epoch 16/200\n",
            "200/200 - 158s - loss: 4.4524e-04 - MultiInstanceConfmapsHead_loss: 1.7541e-04 - PartAffinityFieldsHead_loss: 2.6983e-04 - val_loss: 5.0588e-04 - val_MultiInstanceConfmapsHead_loss: 2.0522e-04 - val_PartAffinityFieldsHead_loss: 3.0066e-04 - lr: 1.0000e-04 - 158s/epoch - 791ms/step\n",
            "Epoch 17/200\n",
            "200/200 - 134s - loss: 3.9690e-04 - MultiInstanceConfmapsHead_loss: 1.5552e-04 - PartAffinityFieldsHead_loss: 2.4138e-04 - val_loss: 4.8603e-04 - val_MultiInstanceConfmapsHead_loss: 1.9523e-04 - val_PartAffinityFieldsHead_loss: 2.9080e-04 - lr: 1.0000e-04 - 134s/epoch - 668ms/step\n",
            "Epoch 18/200\n",
            "200/200 - 142s - loss: 3.4458e-04 - MultiInstanceConfmapsHead_loss: 1.3105e-04 - PartAffinityFieldsHead_loss: 2.1353e-04 - val_loss: 4.6812e-04 - val_MultiInstanceConfmapsHead_loss: 1.8385e-04 - val_PartAffinityFieldsHead_loss: 2.8427e-04 - lr: 1.0000e-04 - 142s/epoch - 708ms/step\n",
            "Epoch 19/200\n",
            "200/200 - 141s - loss: 3.0246e-04 - MultiInstanceConfmapsHead_loss: 1.1327e-04 - PartAffinityFieldsHead_loss: 1.8920e-04 - val_loss: 4.5320e-04 - val_MultiInstanceConfmapsHead_loss: 1.8126e-04 - val_PartAffinityFieldsHead_loss: 2.7193e-04 - lr: 1.0000e-04 - 141s/epoch - 704ms/step\n",
            "Epoch 20/200\n",
            "200/200 - 142s - loss: 2.8554e-04 - MultiInstanceConfmapsHead_loss: 1.0662e-04 - PartAffinityFieldsHead_loss: 1.7892e-04 - val_loss: 4.4041e-04 - val_MultiInstanceConfmapsHead_loss: 1.7630e-04 - val_PartAffinityFieldsHead_loss: 2.6411e-04 - lr: 1.0000e-04 - 142s/epoch - 711ms/step\n",
            "Epoch 21/200\n",
            "200/200 - 145s - loss: 2.5910e-04 - MultiInstanceConfmapsHead_loss: 9.5764e-05 - PartAffinityFieldsHead_loss: 1.6333e-04 - val_loss: 4.0501e-04 - val_MultiInstanceConfmapsHead_loss: 1.6269e-04 - val_PartAffinityFieldsHead_loss: 2.4232e-04 - lr: 1.0000e-04 - 145s/epoch - 723ms/step\n",
            "Epoch 22/200\n",
            "200/200 - 154s - loss: 2.3229e-04 - MultiInstanceConfmapsHead_loss: 8.4746e-05 - PartAffinityFieldsHead_loss: 1.4755e-04 - val_loss: 3.9574e-04 - val_MultiInstanceConfmapsHead_loss: 1.5965e-04 - val_PartAffinityFieldsHead_loss: 2.3609e-04 - lr: 1.0000e-04 - 154s/epoch - 772ms/step\n",
            "Epoch 23/200\n",
            "200/200 - 139s - loss: 2.1471e-04 - MultiInstanceConfmapsHead_loss: 7.7470e-05 - PartAffinityFieldsHead_loss: 1.3724e-04 - val_loss: 3.6510e-04 - val_MultiInstanceConfmapsHead_loss: 1.4621e-04 - val_PartAffinityFieldsHead_loss: 2.1889e-04 - lr: 1.0000e-04 - 139s/epoch - 694ms/step\n",
            "Epoch 24/200\n",
            "200/200 - 154s - loss: 1.9750e-04 - MultiInstanceConfmapsHead_loss: 7.0274e-05 - PartAffinityFieldsHead_loss: 1.2723e-04 - val_loss: 3.6088e-04 - val_MultiInstanceConfmapsHead_loss: 1.4573e-04 - val_PartAffinityFieldsHead_loss: 2.1515e-04 - lr: 1.0000e-04 - 154s/epoch - 768ms/step\n",
            "Epoch 25/200\n",
            "200/200 - 137s - loss: 1.8277e-04 - MultiInstanceConfmapsHead_loss: 6.4067e-05 - PartAffinityFieldsHead_loss: 1.1871e-04 - val_loss: 3.4515e-04 - val_MultiInstanceConfmapsHead_loss: 1.3829e-04 - val_PartAffinityFieldsHead_loss: 2.0686e-04 - lr: 1.0000e-04 - 137s/epoch - 684ms/step\n",
            "Epoch 26/200\n",
            "200/200 - 140s - loss: 1.7592e-04 - MultiInstanceConfmapsHead_loss: 6.1853e-05 - PartAffinityFieldsHead_loss: 1.1407e-04 - val_loss: 3.4628e-04 - val_MultiInstanceConfmapsHead_loss: 1.3826e-04 - val_PartAffinityFieldsHead_loss: 2.0802e-04 - lr: 1.0000e-04 - 140s/epoch - 701ms/step\n",
            "Epoch 27/200\n",
            "200/200 - 142s - loss: 1.6480e-04 - MultiInstanceConfmapsHead_loss: 5.6835e-05 - PartAffinityFieldsHead_loss: 1.0797e-04 - val_loss: 3.4412e-04 - val_MultiInstanceConfmapsHead_loss: 1.3767e-04 - val_PartAffinityFieldsHead_loss: 2.0644e-04 - lr: 1.0000e-04 - 142s/epoch - 711ms/step\n",
            "Epoch 28/200\n",
            "200/200 - 144s - loss: 1.5369e-04 - MultiInstanceConfmapsHead_loss: 5.2709e-05 - PartAffinityFieldsHead_loss: 1.0098e-04 - val_loss: 3.3213e-04 - val_MultiInstanceConfmapsHead_loss: 1.3423e-04 - val_PartAffinityFieldsHead_loss: 1.9790e-04 - lr: 1.0000e-04 - 144s/epoch - 722ms/step\n",
            "Epoch 29/200\n",
            "200/200 - 156s - loss: 1.4591e-04 - MultiInstanceConfmapsHead_loss: 4.9361e-05 - PartAffinityFieldsHead_loss: 9.6551e-05 - val_loss: 3.3005e-04 - val_MultiInstanceConfmapsHead_loss: 1.3408e-04 - val_PartAffinityFieldsHead_loss: 1.9597e-04 - lr: 1.0000e-04 - 156s/epoch - 779ms/step\n",
            "Epoch 30/200\n",
            "200/200 - 137s - loss: 1.3936e-04 - MultiInstanceConfmapsHead_loss: 4.6805e-05 - PartAffinityFieldsHead_loss: 9.2559e-05 - val_loss: 3.2356e-04 - val_MultiInstanceConfmapsHead_loss: 1.3249e-04 - val_PartAffinityFieldsHead_loss: 1.9108e-04 - lr: 1.0000e-04 - 137s/epoch - 685ms/step\n",
            "Epoch 31/200\n",
            "200/200 - 151s - loss: 1.3022e-04 - MultiInstanceConfmapsHead_loss: 4.2751e-05 - PartAffinityFieldsHead_loss: 8.7472e-05 - val_loss: 3.4441e-04 - val_MultiInstanceConfmapsHead_loss: 1.4015e-04 - val_PartAffinityFieldsHead_loss: 2.0426e-04 - lr: 1.0000e-04 - 151s/epoch - 756ms/step\n",
            "Epoch 32/200\n",
            "200/200 - 140s - loss: 1.2649e-04 - MultiInstanceConfmapsHead_loss: 4.1274e-05 - PartAffinityFieldsHead_loss: 8.5211e-05 - val_loss: 3.2253e-04 - val_MultiInstanceConfmapsHead_loss: 1.3146e-04 - val_PartAffinityFieldsHead_loss: 1.9107e-04 - lr: 1.0000e-04 - 140s/epoch - 699ms/step\n",
            "Epoch 33/200\n",
            "200/200 - 144s - loss: 1.1754e-04 - MultiInstanceConfmapsHead_loss: 3.7766e-05 - PartAffinityFieldsHead_loss: 7.9777e-05 - val_loss: 3.2806e-04 - val_MultiInstanceConfmapsHead_loss: 1.3443e-04 - val_PartAffinityFieldsHead_loss: 1.9362e-04 - lr: 1.0000e-04 - 144s/epoch - 718ms/step\n",
            "Epoch 34/200\n",
            "200/200 - 141s - loss: 1.1699e-04 - MultiInstanceConfmapsHead_loss: 3.7781e-05 - PartAffinityFieldsHead_loss: 7.9210e-05 - val_loss: 3.5282e-04 - val_MultiInstanceConfmapsHead_loss: 1.4531e-04 - val_PartAffinityFieldsHead_loss: 2.0751e-04 - lr: 1.0000e-04 - 141s/epoch - 704ms/step\n",
            "Epoch 35/200\n",
            "200/200 - 145s - loss: 1.0787e-04 - MultiInstanceConfmapsHead_loss: 3.3664e-05 - PartAffinityFieldsHead_loss: 7.4205e-05 - val_loss: 3.2273e-04 - val_MultiInstanceConfmapsHead_loss: 1.3183e-04 - val_PartAffinityFieldsHead_loss: 1.9090e-04 - lr: 1.0000e-04 - 145s/epoch - 726ms/step\n",
            "Epoch 36/200\n",
            "200/200 - 143s - loss: 1.0350e-04 - MultiInstanceConfmapsHead_loss: 3.2324e-05 - PartAffinityFieldsHead_loss: 7.1174e-05 - val_loss: 3.1561e-04 - val_MultiInstanceConfmapsHead_loss: 1.2948e-04 - val_PartAffinityFieldsHead_loss: 1.8613e-04 - lr: 1.0000e-04 - 143s/epoch - 714ms/step\n",
            "Epoch 37/200\n",
            "200/200 - 151s - loss: 9.9006e-05 - MultiInstanceConfmapsHead_loss: 3.0234e-05 - PartAffinityFieldsHead_loss: 6.8772e-05 - val_loss: 3.2172e-04 - val_MultiInstanceConfmapsHead_loss: 1.3229e-04 - val_PartAffinityFieldsHead_loss: 1.8943e-04 - lr: 1.0000e-04 - 151s/epoch - 757ms/step\n",
            "Epoch 38/200\n",
            "200/200 - 138s - loss: 9.4567e-05 - MultiInstanceConfmapsHead_loss: 2.8495e-05 - PartAffinityFieldsHead_loss: 6.6072e-05 - val_loss: 3.3913e-04 - val_MultiInstanceConfmapsHead_loss: 1.4093e-04 - val_PartAffinityFieldsHead_loss: 1.9820e-04 - lr: 1.0000e-04 - 138s/epoch - 691ms/step\n",
            "Epoch 39/200\n",
            "200/200 - 146s - loss: 9.0860e-05 - MultiInstanceConfmapsHead_loss: 2.7041e-05 - PartAffinityFieldsHead_loss: 6.3819e-05 - val_loss: 3.1445e-04 - val_MultiInstanceConfmapsHead_loss: 1.2938e-04 - val_PartAffinityFieldsHead_loss: 1.8507e-04 - lr: 1.0000e-04 - 146s/epoch - 732ms/step\n",
            "Epoch 40/200\n",
            "200/200 - 141s - loss: 8.8853e-05 - MultiInstanceConfmapsHead_loss: 2.6249e-05 - PartAffinityFieldsHead_loss: 6.2604e-05 - val_loss: 3.6022e-04 - val_MultiInstanceConfmapsHead_loss: 1.5193e-04 - val_PartAffinityFieldsHead_loss: 2.0828e-04 - lr: 1.0000e-04 - 141s/epoch - 707ms/step\n",
            "Epoch 41/200\n",
            "200/200 - 142s - loss: 8.7677e-05 - MultiInstanceConfmapsHead_loss: 2.6200e-05 - PartAffinityFieldsHead_loss: 6.1477e-05 - val_loss: 3.2904e-04 - val_MultiInstanceConfmapsHead_loss: 1.3919e-04 - val_PartAffinityFieldsHead_loss: 1.8985e-04 - lr: 1.0000e-04 - 142s/epoch - 711ms/step\n",
            "Epoch 42/200\n",
            "200/200 - 154s - loss: 8.2812e-05 - MultiInstanceConfmapsHead_loss: 2.4099e-05 - PartAffinityFieldsHead_loss: 5.8713e-05 - val_loss: 3.1926e-04 - val_MultiInstanceConfmapsHead_loss: 1.3136e-04 - val_PartAffinityFieldsHead_loss: 1.8790e-04 - lr: 1.0000e-04 - 154s/epoch - 772ms/step\n",
            "Epoch 43/200\n",
            "200/200 - 139s - loss: 7.7507e-05 - MultiInstanceConfmapsHead_loss: 2.1705e-05 - PartAffinityFieldsHead_loss: 5.5802e-05 - val_loss: 3.1328e-04 - val_MultiInstanceConfmapsHead_loss: 1.2814e-04 - val_PartAffinityFieldsHead_loss: 1.8514e-04 - lr: 1.0000e-04 - 139s/epoch - 694ms/step\n",
            "Epoch 44/200\n",
            "200/200 - 142s - loss: 7.6525e-05 - MultiInstanceConfmapsHead_loss: 2.1681e-05 - PartAffinityFieldsHead_loss: 5.4844e-05 - val_loss: 3.2006e-04 - val_MultiInstanceConfmapsHead_loss: 1.3327e-04 - val_PartAffinityFieldsHead_loss: 1.8679e-04 - lr: 1.0000e-04 - 142s/epoch - 711ms/step\n",
            "Epoch 45/200\n",
            "200/200 - 143s - loss: 7.2843e-05 - MultiInstanceConfmapsHead_loss: 2.0177e-05 - PartAffinityFieldsHead_loss: 5.2667e-05 - val_loss: 3.1276e-04 - val_MultiInstanceConfmapsHead_loss: 1.2831e-04 - val_PartAffinityFieldsHead_loss: 1.8445e-04 - lr: 1.0000e-04 - 143s/epoch - 713ms/step\n",
            "Epoch 46/200\n",
            "200/200 - 140s - loss: 7.4198e-05 - MultiInstanceConfmapsHead_loss: 2.0884e-05 - PartAffinityFieldsHead_loss: 5.3314e-05 - val_loss: 3.1908e-04 - val_MultiInstanceConfmapsHead_loss: 1.3460e-04 - val_PartAffinityFieldsHead_loss: 1.8447e-04 - lr: 1.0000e-04 - 140s/epoch - 702ms/step\n",
            "Epoch 47/200\n",
            "200/200 - 145s - loss: 6.9723e-05 - MultiInstanceConfmapsHead_loss: 1.9223e-05 - PartAffinityFieldsHead_loss: 5.0500e-05 - val_loss: 3.1189e-04 - val_MultiInstanceConfmapsHead_loss: 1.2882e-04 - val_PartAffinityFieldsHead_loss: 1.8307e-04 - lr: 1.0000e-04 - 145s/epoch - 723ms/step\n",
            "Epoch 48/200\n",
            "200/200 - 151s - loss: 6.8298e-05 - MultiInstanceConfmapsHead_loss: 1.8693e-05 - PartAffinityFieldsHead_loss: 4.9605e-05 - val_loss: 3.2480e-04 - val_MultiInstanceConfmapsHead_loss: 1.3549e-04 - val_PartAffinityFieldsHead_loss: 1.8931e-04 - lr: 1.0000e-04 - 151s/epoch - 755ms/step\n",
            "Epoch 49/200\n",
            "200/200 - 152s - loss: 6.5391e-05 - MultiInstanceConfmapsHead_loss: 1.7453e-05 - PartAffinityFieldsHead_loss: 4.7938e-05 - val_loss: 3.0561e-04 - val_MultiInstanceConfmapsHead_loss: 1.2665e-04 - val_PartAffinityFieldsHead_loss: 1.7896e-04 - lr: 1.0000e-04 - 152s/epoch - 759ms/step\n",
            "Epoch 50/200\n",
            "200/200 - 149s - loss: 6.5313e-05 - MultiInstanceConfmapsHead_loss: 1.7767e-05 - PartAffinityFieldsHead_loss: 4.7546e-05 - val_loss: 3.2026e-04 - val_MultiInstanceConfmapsHead_loss: 1.3254e-04 - val_PartAffinityFieldsHead_loss: 1.8773e-04 - lr: 1.0000e-04 - 149s/epoch - 745ms/step\n",
            "Epoch 51/200\n",
            "200/200 - 146s - loss: 6.1506e-05 - MultiInstanceConfmapsHead_loss: 1.6248e-05 - PartAffinityFieldsHead_loss: 4.5258e-05 - val_loss: 3.5522e-04 - val_MultiInstanceConfmapsHead_loss: 1.4743e-04 - val_PartAffinityFieldsHead_loss: 2.0779e-04 - lr: 1.0000e-04 - 146s/epoch - 732ms/step\n",
            "Epoch 52/200\n",
            "200/200 - 138s - loss: 6.0895e-05 - MultiInstanceConfmapsHead_loss: 1.5891e-05 - PartAffinityFieldsHead_loss: 4.5004e-05 - val_loss: 3.1739e-04 - val_MultiInstanceConfmapsHead_loss: 1.3110e-04 - val_PartAffinityFieldsHead_loss: 1.8630e-04 - lr: 1.0000e-04 - 138s/epoch - 692ms/step\n",
            "Epoch 53/200\n",
            "200/200 - 141s - loss: 5.8839e-05 - MultiInstanceConfmapsHead_loss: 1.5191e-05 - PartAffinityFieldsHead_loss: 4.3647e-05 - val_loss: 3.3807e-04 - val_MultiInstanceConfmapsHead_loss: 1.3976e-04 - val_PartAffinityFieldsHead_loss: 1.9831e-04 - lr: 1.0000e-04 - 141s/epoch - 704ms/step\n",
            "Epoch 54/200\n",
            "200/200 - 146s - loss: 5.8527e-05 - MultiInstanceConfmapsHead_loss: 1.5292e-05 - PartAffinityFieldsHead_loss: 4.3235e-05 - val_loss: 3.0784e-04 - val_MultiInstanceConfmapsHead_loss: 1.2921e-04 - val_PartAffinityFieldsHead_loss: 1.7862e-04 - lr: 1.0000e-04 - 146s/epoch - 732ms/step\n",
            "Epoch 55/200\n",
            "200/200 - 143s - loss: 5.6667e-05 - MultiInstanceConfmapsHead_loss: 1.4684e-05 - PartAffinityFieldsHead_loss: 4.1983e-05 - val_loss: 3.1354e-04 - val_MultiInstanceConfmapsHead_loss: 1.3079e-04 - val_PartAffinityFieldsHead_loss: 1.8275e-04 - lr: 1.0000e-04 - 143s/epoch - 717ms/step\n",
            "Epoch 56/200\n",
            "200/200 - 144s - loss: 5.5533e-05 - MultiInstanceConfmapsHead_loss: 1.4287e-05 - PartAffinityFieldsHead_loss: 4.1246e-05 - val_loss: 3.2822e-04 - val_MultiInstanceConfmapsHead_loss: 1.3681e-04 - val_PartAffinityFieldsHead_loss: 1.9141e-04 - lr: 1.0000e-04 - 144s/epoch - 722ms/step\n",
            "Epoch 57/200\n",
            "\n",
            "Epoch 57: ReduceLROnPlateau reducing learning rate to 4.999999873689376e-05.\n",
            "200/200 - 144s - loss: 5.4311e-05 - MultiInstanceConfmapsHead_loss: 1.3913e-05 - PartAffinityFieldsHead_loss: 4.0398e-05 - val_loss: 3.3682e-04 - val_MultiInstanceConfmapsHead_loss: 1.4297e-04 - val_PartAffinityFieldsHead_loss: 1.9385e-04 - lr: 1.0000e-04 - 144s/epoch - 720ms/step\n",
            "Epoch 58/200\n",
            "200/200 - 148s - loss: 4.9436e-05 - MultiInstanceConfmapsHead_loss: 1.1777e-05 - PartAffinityFieldsHead_loss: 3.7659e-05 - val_loss: 3.0329e-04 - val_MultiInstanceConfmapsHead_loss: 1.2504e-04 - val_PartAffinityFieldsHead_loss: 1.7825e-04 - lr: 5.0000e-05 - 148s/epoch - 741ms/step\n",
            "Epoch 59/200\n",
            "200/200 - 142s - loss: 4.6543e-05 - MultiInstanceConfmapsHead_loss: 1.0638e-05 - PartAffinityFieldsHead_loss: 3.5905e-05 - val_loss: 3.2031e-04 - val_MultiInstanceConfmapsHead_loss: 1.3314e-04 - val_PartAffinityFieldsHead_loss: 1.8717e-04 - lr: 5.0000e-05 - 142s/epoch - 712ms/step\n",
            "Epoch 60/200\n",
            "200/200 - 154s - loss: 4.6011e-05 - MultiInstanceConfmapsHead_loss: 1.0444e-05 - PartAffinityFieldsHead_loss: 3.5568e-05 - val_loss: 3.1874e-04 - val_MultiInstanceConfmapsHead_loss: 1.3462e-04 - val_PartAffinityFieldsHead_loss: 1.8412e-04 - lr: 5.0000e-05 - 154s/epoch - 768ms/step\n",
            "Epoch 61/200\n",
            "200/200 - 135s - loss: 4.4721e-05 - MultiInstanceConfmapsHead_loss: 1.0002e-05 - PartAffinityFieldsHead_loss: 3.4719e-05 - val_loss: 3.2127e-04 - val_MultiInstanceConfmapsHead_loss: 1.3527e-04 - val_PartAffinityFieldsHead_loss: 1.8600e-04 - lr: 5.0000e-05 - 135s/epoch - 674ms/step\n",
            "Epoch 62/200\n",
            "200/200 - 153s - loss: 4.5007e-05 - MultiInstanceConfmapsHead_loss: 1.0207e-05 - PartAffinityFieldsHead_loss: 3.4799e-05 - val_loss: 3.3278e-04 - val_MultiInstanceConfmapsHead_loss: 1.4116e-04 - val_PartAffinityFieldsHead_loss: 1.9162e-04 - lr: 5.0000e-05 - 153s/epoch - 766ms/step\n",
            "Epoch 63/200\n",
            "200/200 - 136s - loss: 4.4479e-05 - MultiInstanceConfmapsHead_loss: 1.0093e-05 - PartAffinityFieldsHead_loss: 3.4386e-05 - val_loss: 3.2446e-04 - val_MultiInstanceConfmapsHead_loss: 1.3668e-04 - val_PartAffinityFieldsHead_loss: 1.8779e-04 - lr: 5.0000e-05 - 136s/epoch - 681ms/step\n",
            "Epoch 64/200\n",
            "200/200 - 143s - loss: 4.3829e-05 - MultiInstanceConfmapsHead_loss: 9.7252e-06 - PartAffinityFieldsHead_loss: 3.4104e-05 - val_loss: 3.0660e-04 - val_MultiInstanceConfmapsHead_loss: 1.2720e-04 - val_PartAffinityFieldsHead_loss: 1.7940e-04 - lr: 5.0000e-05 - 143s/epoch - 714ms/step\n",
            "Epoch 65/200\n",
            "200/200 - 143s - loss: 4.3214e-05 - MultiInstanceConfmapsHead_loss: 9.7082e-06 - PartAffinityFieldsHead_loss: 3.3506e-05 - val_loss: 3.1690e-04 - val_MultiInstanceConfmapsHead_loss: 1.3287e-04 - val_PartAffinityFieldsHead_loss: 1.8403e-04 - lr: 5.0000e-05 - 143s/epoch - 717ms/step\n",
            "Epoch 66/200\n",
            "200/200 - 142s - loss: 4.3135e-05 - MultiInstanceConfmapsHead_loss: 9.5440e-06 - PartAffinityFieldsHead_loss: 3.3591e-05 - val_loss: 3.0656e-04 - val_MultiInstanceConfmapsHead_loss: 1.2789e-04 - val_PartAffinityFieldsHead_loss: 1.7867e-04 - lr: 5.0000e-05 - 142s/epoch - 708ms/step\n",
            "Epoch 67/200\n",
            "\n",
            "Epoch 67: ReduceLROnPlateau reducing learning rate to 2.499999936844688e-05.\n",
            "200/200 - 146s - loss: 4.2440e-05 - MultiInstanceConfmapsHead_loss: 9.3798e-06 - PartAffinityFieldsHead_loss: 3.3060e-05 - val_loss: 3.2963e-04 - val_MultiInstanceConfmapsHead_loss: 1.3720e-04 - val_PartAffinityFieldsHead_loss: 1.9243e-04 - lr: 5.0000e-05 - 146s/epoch - 730ms/step\n",
            "Epoch 68/200\n",
            "200/200 - 154s - loss: 4.1224e-05 - MultiInstanceConfmapsHead_loss: 8.8570e-06 - PartAffinityFieldsHead_loss: 3.2367e-05 - val_loss: 3.1143e-04 - val_MultiInstanceConfmapsHead_loss: 1.3028e-04 - val_PartAffinityFieldsHead_loss: 1.8116e-04 - lr: 2.5000e-05 - 154s/epoch - 769ms/step\n",
            "Epoch 68: early stopping\n",
            "INFO:sleap.nn.training:Finished training loop. [164.3 min]\n",
            "INFO:sleap.nn.training:Deleting visualization directory: models/baseline_medium_rf.bottomup/viz\n",
            "INFO:sleap.nn.training:Saving evaluation metrics to model folder...\n",
            "\u001b[2KPredicting... \u001b[90m━━━━━━━━━━━━━━━━━━━━━━━━━━━━━━━━━━━━━━━━\u001b[0m \u001b[35m  0%\u001b[0m ETA: \u001b[36m-:--:--\u001b[0m \u001b[31m?\u001b[0m2023-11-28 20:12:54.173614: W tensorflow/core/grappler/costs/op_level_cost_estimator.cc:690] Error in PredictCost() for the op: op: \"CropAndResize\" attr { key: \"T\" value { type: DT_FLOAT } } attr { key: \"extrapolation_value\" value { f: 0 } } attr { key: \"method\" value { s: \"bilinear\" } } inputs { dtype: DT_FLOAT shape { dim { size: -65 } dim { size: -66 } dim { size: -67 } dim { size: 1 } } } inputs { dtype: DT_FLOAT shape { dim { size: -2 } dim { size: 4 } } } inputs { dtype: DT_INT32 shape { dim { size: -2 } } } inputs { dtype: DT_INT32 shape { dim { size: 2 } } } device { type: \"GPU\" vendor: \"NVIDIA\" model: \"Tesla T4\" frequency: 1590 num_cores: 40 environment { key: \"architecture\" value: \"7.5\" } environment { key: \"cuda\" value: \"11020\" } environment { key: \"cudnn\" value: \"8100\" } num_registers: 65536 l1_cache_size: 24576 l2_cache_size: 4194304 shared_memory_size_per_multiprocessor: 65536 memory_size: 14433452032 bandwidth: 320064000 } outputs { dtype: DT_FLOAT shape { dim { size: -2 } dim { size: -68 } dim { size: -69 } dim { size: 1 } } }\n",
            "\u001b[2KPredicting... \u001b[91m━━━━━━━━━━━━━━━━━━━━━━━━━━━━━━━━━━━━━━━\u001b[0m\u001b[91m╸\u001b[0m \u001b[35m 99%\u001b[0m ETA: \u001b[36m0:00:01\u001b[0m \u001b[31m15.4 FPS\u001b[0m2023-11-28 20:13:20.586136: W tensorflow/core/grappler/costs/op_level_cost_estimator.cc:690] Error in PredictCost() for the op: op: \"CropAndResize\" attr { key: \"T\" value { type: DT_FLOAT } } attr { key: \"extrapolation_value\" value { f: 0 } } attr { key: \"method\" value { s: \"bilinear\" } } inputs { dtype: DT_FLOAT shape { dim { size: -65 } dim { size: -66 } dim { size: -67 } dim { size: 1 } } } inputs { dtype: DT_FLOAT shape { dim { size: -2 } dim { size: 4 } } } inputs { dtype: DT_INT32 shape { dim { size: -2 } } } inputs { dtype: DT_INT32 shape { dim { size: 2 } } } device { type: \"GPU\" vendor: \"NVIDIA\" model: \"Tesla T4\" frequency: 1590 num_cores: 40 environment { key: \"architecture\" value: \"7.5\" } environment { key: \"cuda\" value: \"11020\" } environment { key: \"cudnn\" value: \"8100\" } num_registers: 65536 l1_cache_size: 24576 l2_cache_size: 4194304 shared_memory_size_per_multiprocessor: 65536 memory_size: 14433452032 bandwidth: 320064000 } outputs { dtype: DT_FLOAT shape { dim { size: -2 } dim { size: -68 } dim { size: -69 } dim { size: 1 } } }\n",
            "\u001b[2KPredicting... \u001b[90m━━━━━━━━━━━━━━━━━━━━━━━━━━━━━━━━━━━━━━━━\u001b[0m \u001b[35m100%\u001b[0m ETA: \u001b[36m0:00:00\u001b[0m \u001b[31m?\u001b[0m\n",
            "\u001b[?25hINFO:sleap.nn.evals:Saved predictions: models/baseline_medium_rf.bottomup/labels_pr.train.slp\n",
            "INFO:sleap.nn.evals:Saved metrics: models/baseline_medium_rf.bottomup/metrics.train.npz\n",
            "INFO:sleap.nn.evals:OKS mAP: 0.738666\n",
            "\u001b[2KPredicting... \u001b[90m━━━━━━━━━━━━━━━━━━━━━━━━━━━━━━━━━━━━━━━━\u001b[0m \u001b[35m  0%\u001b[0m ETA: \u001b[36m-:--:--\u001b[0m \u001b[31m?\u001b[0m2023-11-28 20:13:31.555274: W tensorflow/core/grappler/costs/op_level_cost_estimator.cc:690] Error in PredictCost() for the op: op: \"CropAndResize\" attr { key: \"T\" value { type: DT_FLOAT } } attr { key: \"extrapolation_value\" value { f: 0 } } attr { key: \"method\" value { s: \"bilinear\" } } inputs { dtype: DT_FLOAT shape { dim { size: -65 } dim { size: -66 } dim { size: -67 } dim { size: 1 } } } inputs { dtype: DT_FLOAT shape { dim { size: -2 } dim { size: 4 } } } inputs { dtype: DT_INT32 shape { dim { size: -2 } } } inputs { dtype: DT_INT32 shape { dim { size: 2 } } } device { type: \"GPU\" vendor: \"NVIDIA\" model: \"Tesla T4\" frequency: 1590 num_cores: 40 environment { key: \"architecture\" value: \"7.5\" } environment { key: \"cuda\" value: \"11020\" } environment { key: \"cudnn\" value: \"8100\" } num_registers: 65536 l1_cache_size: 24576 l2_cache_size: 4194304 shared_memory_size_per_multiprocessor: 65536 memory_size: 14433452032 bandwidth: 320064000 } outputs { dtype: DT_FLOAT shape { dim { size: -2 } dim { size: -68 } dim { size: -69 } dim { size: 1 } } }\n",
            "\u001b[2KPredicting... \u001b[90m━━━━━━━━━━━━━━━━━━━━━━━━━━━━━━━━━━━━━━━━\u001b[0m \u001b[35m100%\u001b[0m ETA: \u001b[36m0:00:00\u001b[0m \u001b[31m16.6 FPS\u001b[0m\n",
            "\u001b[?25hINFO:sleap.nn.evals:Saved predictions: models/baseline_medium_rf.bottomup/labels_pr.val.slp\n",
            "INFO:sleap.nn.evals:Saved metrics: models/baseline_medium_rf.bottomup/metrics.val.npz\n",
            "INFO:sleap.nn.evals:OKS mAP: 0.161354\n"
          ]
        }
      ],
      "source": [
        "!sleap-train baseline_medium_rf.bottomup.json colab.pkg.slp #multi_instance.json"
      ]
    },
    {
      "cell_type": "markdown",
      "metadata": {
        "id": "whOf8PaFxYbt"
      },
      "source": [
        "If instead of bottom-up you've chosen the top-down pipeline (with two training configs), you would need to invoke two separate training jobs in sequence:\n",
        "\n",
        "- `!sleap-train centroid.json colab.pkg.slp`\n",
        "- `!sleap-train centered_instance.json colab.pkg.slp`\n"
      ]
    },
    {
      "cell_type": "markdown",
      "metadata": {
        "id": "nIsKUX661xFK"
      },
      "source": [
        "## Run inference to predict instances\n",
        "\n",
        "Once training finishes, you'll see a new directory (or two new directories for top-down training pipeline) containing all the model files SLEAP needs to use for inference.\n",
        "\n",
        "Here we'll use the created model files to run inference in two modes:\n",
        "\n",
        "- predicting instances in suggested frames from the exported .slp file\n",
        "\n",
        "- predicting and tracking instances in uploaded video\n",
        "\n",
        "You can also download the trained models for running inference from the SLEAP GUI on your computer (or anywhere else).\n",
        "\n",
        "### Predicting instances in suggested frames\n",
        "This mode of predicting instances is useful for accelerating the manual labeling work; it allows you to get early predictions on suggested frames and merge them back into the project for faster labeling.\n",
        "\n",
        "Here we assume you've trained a bottom-up model and that the model files were written in directory named `colab_demo.bottomup`; later in this notebook we'll also show how to run inference with the pair of top-down models instead."
      ]
    },
    {
      "cell_type": "code",
      "source": [
        "#track using previously used code\n",
        "!sleap-track \"/content/drive/My Drive/sleap/trim_hm4d_H.mp4\" -m \"/content/drive/My Drive/sleap/models/baseline_medium_rf.bottomup\" --tracking.tracker 'flow' --tracking.clean_instance_count 2 --tracking.track_window 30"
      ],
      "metadata": {
        "colab": {
          "base_uri": "https://localhost:8080/"
        },
        "id": "Vhm38xtFk37g",
        "outputId": "81a151b1-40ad-4bc8-df6d-701a7d898b5b"
      },
      "execution_count": null,
      "outputs": [
        {
          "output_type": "stream",
          "name": "stdout",
          "text": [
            "INFO:numexpr.utils:NumExpr defaulting to 2 threads.\n",
            "Started inference at: 2023-11-28 20:43:25.282559\n",
            "Args:\n",
            "\u001b[1m{\u001b[0m\n",
            "\u001b[2;32m│   \u001b[0m\u001b[32m'data_path'\u001b[0m: \u001b[32m'/content/drive/My Drive/sleap/trim_hm4d_H.mp4'\u001b[0m,\n",
            "\u001b[2;32m│   \u001b[0m\u001b[32m'models'\u001b[0m: \u001b[1m[\u001b[0m\u001b[32m'/content/drive/My Drive/sleap/models/baseline_medium_rf.bottomup'\u001b[0m\u001b[1m]\u001b[0m,\n",
            "\u001b[2;32m│   \u001b[0m\u001b[32m'frames'\u001b[0m: \u001b[32m''\u001b[0m,\n",
            "\u001b[2;32m│   \u001b[0m\u001b[32m'only_labeled_frames'\u001b[0m: \u001b[3;91mFalse\u001b[0m,\n",
            "\u001b[2;32m│   \u001b[0m\u001b[32m'only_suggested_frames'\u001b[0m: \u001b[3;91mFalse\u001b[0m,\n",
            "\u001b[2;32m│   \u001b[0m\u001b[32m'output'\u001b[0m: \u001b[3;35mNone\u001b[0m,\n",
            "\u001b[2;32m│   \u001b[0m\u001b[32m'no_empty_frames'\u001b[0m: \u001b[3;91mFalse\u001b[0m,\n",
            "\u001b[2;32m│   \u001b[0m\u001b[32m'verbosity'\u001b[0m: \u001b[32m'rich'\u001b[0m,\n",
            "\u001b[2;32m│   \u001b[0m\u001b[32m'video.dataset'\u001b[0m: \u001b[3;35mNone\u001b[0m,\n",
            "\u001b[2;32m│   \u001b[0m\u001b[32m'video.input_format'\u001b[0m: \u001b[32m'channels_last'\u001b[0m,\n",
            "\u001b[2;32m│   \u001b[0m\u001b[32m'video.index'\u001b[0m: \u001b[32m''\u001b[0m,\n",
            "\u001b[2;32m│   \u001b[0m\u001b[32m'cpu'\u001b[0m: \u001b[3;91mFalse\u001b[0m,\n",
            "\u001b[2;32m│   \u001b[0m\u001b[32m'first_gpu'\u001b[0m: \u001b[3;91mFalse\u001b[0m,\n",
            "\u001b[2;32m│   \u001b[0m\u001b[32m'last_gpu'\u001b[0m: \u001b[3;91mFalse\u001b[0m,\n",
            "\u001b[2;32m│   \u001b[0m\u001b[32m'gpu'\u001b[0m: \u001b[32m'auto'\u001b[0m,\n",
            "\u001b[2;32m│   \u001b[0m\u001b[32m'max_edge_length_ratio'\u001b[0m: \u001b[1;36m0.25\u001b[0m,\n",
            "\u001b[2;32m│   \u001b[0m\u001b[32m'dist_penalty_weight'\u001b[0m: \u001b[1;36m1.0\u001b[0m,\n",
            "\u001b[2;32m│   \u001b[0m\u001b[32m'batch_size'\u001b[0m: \u001b[1;36m4\u001b[0m,\n",
            "\u001b[2;32m│   \u001b[0m\u001b[32m'open_in_gui'\u001b[0m: \u001b[3;91mFalse\u001b[0m,\n",
            "\u001b[2;32m│   \u001b[0m\u001b[32m'peak_threshold'\u001b[0m: \u001b[1;36m0.2\u001b[0m,\n",
            "\u001b[2;32m│   \u001b[0m\u001b[32m'max_instances'\u001b[0m: \u001b[3;35mNone\u001b[0m,\n",
            "\u001b[2;32m│   \u001b[0m\u001b[32m'tracking.tracker'\u001b[0m: \u001b[32m'flow'\u001b[0m,\n",
            "\u001b[2;32m│   \u001b[0m\u001b[32m'tracking.max_tracking'\u001b[0m: \u001b[3;35mNone\u001b[0m,\n",
            "\u001b[2;32m│   \u001b[0m\u001b[32m'tracking.max_tracks'\u001b[0m: \u001b[3;35mNone\u001b[0m,\n",
            "\u001b[2;32m│   \u001b[0m\u001b[32m'tracking.target_instance_count'\u001b[0m: \u001b[3;35mNone\u001b[0m,\n",
            "\u001b[2;32m│   \u001b[0m\u001b[32m'tracking.pre_cull_to_target'\u001b[0m: \u001b[3;35mNone\u001b[0m,\n",
            "\u001b[2;32m│   \u001b[0m\u001b[32m'tracking.pre_cull_iou_threshold'\u001b[0m: \u001b[3;35mNone\u001b[0m,\n",
            "\u001b[2;32m│   \u001b[0m\u001b[32m'tracking.post_connect_single_breaks'\u001b[0m: \u001b[3;35mNone\u001b[0m,\n",
            "\u001b[2;32m│   \u001b[0m\u001b[32m'tracking.clean_instance_count'\u001b[0m: \u001b[1;36m2\u001b[0m,\n",
            "\u001b[2;32m│   \u001b[0m\u001b[32m'tracking.clean_iou_threshold'\u001b[0m: \u001b[3;35mNone\u001b[0m,\n",
            "\u001b[2;32m│   \u001b[0m\u001b[32m'tracking.similarity'\u001b[0m: \u001b[3;35mNone\u001b[0m,\n",
            "\u001b[2;32m│   \u001b[0m\u001b[32m'tracking.match'\u001b[0m: \u001b[3;35mNone\u001b[0m,\n",
            "\u001b[2;32m│   \u001b[0m\u001b[32m'tracking.robust'\u001b[0m: \u001b[3;35mNone\u001b[0m,\n",
            "\u001b[2;32m│   \u001b[0m\u001b[32m'tracking.track_window'\u001b[0m: \u001b[1;36m30\u001b[0m,\n",
            "\u001b[2;32m│   \u001b[0m\u001b[32m'tracking.min_new_track_points'\u001b[0m: \u001b[3;35mNone\u001b[0m,\n",
            "\u001b[2;32m│   \u001b[0m\u001b[32m'tracking.min_match_points'\u001b[0m: \u001b[3;35mNone\u001b[0m,\n",
            "\u001b[2;32m│   \u001b[0m\u001b[32m'tracking.img_scale'\u001b[0m: \u001b[3;35mNone\u001b[0m,\n",
            "\u001b[2;32m│   \u001b[0m\u001b[32m'tracking.of_window_size'\u001b[0m: \u001b[3;35mNone\u001b[0m,\n",
            "\u001b[2;32m│   \u001b[0m\u001b[32m'tracking.of_max_levels'\u001b[0m: \u001b[3;35mNone\u001b[0m,\n",
            "\u001b[2;32m│   \u001b[0m\u001b[32m'tracking.save_shifted_instances'\u001b[0m: \u001b[3;35mNone\u001b[0m,\n",
            "\u001b[2;32m│   \u001b[0m\u001b[32m'tracking.kf_node_indices'\u001b[0m: \u001b[3;35mNone\u001b[0m,\n",
            "\u001b[2;32m│   \u001b[0m\u001b[32m'tracking.kf_init_frame_count'\u001b[0m: \u001b[3;35mNone\u001b[0m\n",
            "\u001b[1m}\u001b[0m\n",
            "\n",
            "INFO:sleap.nn.inference:Auto-selected GPU 0 with 15098 MiB of free memory.\n",
            "Versions:\n",
            "SLEAP: 1.3.3\n",
            "TensorFlow: 2.8.4\n",
            "Numpy: 1.22.4\n",
            "Python: 3.10.12\n",
            "OS: Linux-5.15.120+-x86_64-with-glibc2.35\n",
            "\n",
            "System:\n",
            "GPUs: 1/1 available\n",
            "  Device: /physical_device:GPU:0\n",
            "         Available: True\n",
            "        Initalized: False\n",
            "     Memory growth: True\n",
            "\n",
            "Video: /content/drive/My Drive/sleap/trim_hm4d_H.mp4\n",
            "\u001b[2KPredicting... \u001b[90m━━━━━━━━━━━━━━━━━━━━━━━━━━━━━━━━━━━━━━━━\u001b[0m \u001b[35m  0%\u001b[0m ETA: \u001b[36m-:--:--\u001b[0m \u001b[31m?\u001b[0m2023-11-28 20:43:38.146986: W tensorflow/core/grappler/costs/op_level_cost_estimator.cc:690] Error in PredictCost() for the op: op: \"CropAndResize\" attr { key: \"T\" value { type: DT_FLOAT } } attr { key: \"extrapolation_value\" value { f: 0 } } attr { key: \"method\" value { s: \"bilinear\" } } inputs { dtype: DT_FLOAT shape { dim { size: -73 } dim { size: -74 } dim { size: -75 } dim { size: 1 } } } inputs { dtype: DT_FLOAT shape { dim { size: -2 } dim { size: 4 } } } inputs { dtype: DT_INT32 shape { dim { size: -2 } } } inputs { dtype: DT_INT32 shape { dim { size: 2 } } } device { type: \"GPU\" vendor: \"NVIDIA\" model: \"Tesla T4\" frequency: 1590 num_cores: 40 environment { key: \"architecture\" value: \"7.5\" } environment { key: \"cuda\" value: \"11020\" } environment { key: \"cudnn\" value: \"8100\" } num_registers: 65536 l1_cache_size: 24576 l2_cache_size: 4194304 shared_memory_size_per_multiprocessor: 65536 memory_size: 14433452032 bandwidth: 320064000 } outputs { dtype: DT_FLOAT shape { dim { size: -2 } dim { size: -76 } dim { size: -77 } dim { size: 1 } } }\n",
            "\u001b[2KPredicting... \u001b[91m━━━━━━━━━━━━━━━━━\u001b[0m\u001b[90m╺\u001b[0m\u001b[90m━━━━━━━━━━━━━━━━━━━━━━\u001b[0m \u001b[35m 43%\u001b[0m ETA: \u001b[36m0:17:25\u001b[0m \u001b[31m9.7 FPS\u001b[0m2023-11-28 20:58:05.189081: E tensorflow/stream_executor/cuda/cuda_driver.cc:802] failed to alloc 8589934592 bytes on host: CUDA_ERROR_OUT_OF_MEMORY: out of memory\n",
            "2023-11-28 20:58:05.189146: W ./tensorflow/core/common_runtime/device/device_host_allocator.h:46] could not allocate pinned host memory of size: 8589934592\n",
            "2023-11-28 20:58:05.196405: E tensorflow/stream_executor/cuda/cuda_driver.cc:802] failed to alloc 7730940928 bytes on host: CUDA_ERROR_OUT_OF_MEMORY: out of memory\n",
            "2023-11-28 20:58:05.196459: W ./tensorflow/core/common_runtime/device/device_host_allocator.h:46] could not allocate pinned host memory of size: 7730940928\n",
            "2023-11-28 20:58:05.196508: E tensorflow/stream_executor/cuda/cuda_driver.cc:802] failed to alloc 6957846528 bytes on host: CUDA_ERROR_OUT_OF_MEMORY: out of memory\n",
            "2023-11-28 20:58:05.196523: W ./tensorflow/core/common_runtime/device/device_host_allocator.h:46] could not allocate pinned host memory of size: 6957846528\n",
            "2023-11-28 20:58:05.196559: E tensorflow/stream_executor/cuda/cuda_driver.cc:802] failed to alloc 6262061568 bytes on host: CUDA_ERROR_OUT_OF_MEMORY: out of memory\n",
            "2023-11-28 20:58:05.196572: W ./tensorflow/core/common_runtime/device/device_host_allocator.h:46] could not allocate pinned host memory of size: 6262061568\n",
            "2023-11-28 20:58:05.196604: E tensorflow/stream_executor/cuda/cuda_driver.cc:802] failed to alloc 5635855360 bytes on host: CUDA_ERROR_OUT_OF_MEMORY: out of memory\n",
            "2023-11-28 20:58:05.196617: W ./tensorflow/core/common_runtime/device/device_host_allocator.h:46] could not allocate pinned host memory of size: 5635855360\n",
            "2023-11-28 20:58:05.196648: E tensorflow/stream_executor/cuda/cuda_driver.cc:802] failed to alloc 5072269824 bytes on host: CUDA_ERROR_OUT_OF_MEMORY: out of memory\n",
            "2023-11-28 20:58:05.196661: W ./tensorflow/core/common_runtime/device/device_host_allocator.h:46] could not allocate pinned host memory of size: 5072269824\n",
            "2023-11-28 20:58:05.196692: E tensorflow/stream_executor/cuda/cuda_driver.cc:802] failed to alloc 4565042688 bytes on host: CUDA_ERROR_OUT_OF_MEMORY: out of memory\n",
            "2023-11-28 20:58:05.196705: W ./tensorflow/core/common_runtime/device/device_host_allocator.h:46] could not allocate pinned host memory of size: 4565042688\n",
            "^C\n"
          ]
        }
      ]
    },
    {
      "cell_type": "code",
      "execution_count": null,
      "metadata": {
        "id": "UYAGKlrcA6j_",
        "colab": {
          "base_uri": "https://localhost:8080/"
        },
        "outputId": "5fb50acf-e700-4de6-fdb0-a1855ef68e77"
      },
      "outputs": [
        {
          "output_type": "stream",
          "name": "stdout",
          "text": [
            "INFO:numexpr.utils:NumExpr defaulting to 2 threads.\n",
            "Started inference at: 2023-11-21 20:59:26.579865\n",
            "Args:\n",
            "\u001b[1m{\u001b[0m\n",
            "\u001b[2;32m│   \u001b[0m\u001b[32m'data_path'\u001b[0m: \u001b[32m'colab.pkg.slp'\u001b[0m,\n",
            "\u001b[2;32m│   \u001b[0m\u001b[32m'models'\u001b[0m: \u001b[1m[\u001b[0m\u001b[32m'colab_demo.bottomup'\u001b[0m\u001b[1m]\u001b[0m,\n",
            "\u001b[2;32m│   \u001b[0m\u001b[32m'frames'\u001b[0m: \u001b[32m''\u001b[0m,\n",
            "\u001b[2;32m│   \u001b[0m\u001b[32m'only_labeled_frames'\u001b[0m: \u001b[3;91mFalse\u001b[0m,\n",
            "\u001b[2;32m│   \u001b[0m\u001b[32m'only_suggested_frames'\u001b[0m: \u001b[3;92mTrue\u001b[0m,\n",
            "\u001b[2;32m│   \u001b[0m\u001b[32m'output'\u001b[0m: \u001b[32m'colab.predicted_suggestions.slp'\u001b[0m,\n",
            "\u001b[2;32m│   \u001b[0m\u001b[32m'no_empty_frames'\u001b[0m: \u001b[3;91mFalse\u001b[0m,\n",
            "\u001b[2;32m│   \u001b[0m\u001b[32m'verbosity'\u001b[0m: \u001b[32m'rich'\u001b[0m,\n",
            "\u001b[2;32m│   \u001b[0m\u001b[32m'video.dataset'\u001b[0m: \u001b[3;35mNone\u001b[0m,\n",
            "\u001b[2;32m│   \u001b[0m\u001b[32m'video.input_format'\u001b[0m: \u001b[32m'channels_last'\u001b[0m,\n",
            "\u001b[2;32m│   \u001b[0m\u001b[32m'video.index'\u001b[0m: \u001b[32m''\u001b[0m,\n",
            "\u001b[2;32m│   \u001b[0m\u001b[32m'cpu'\u001b[0m: \u001b[3;91mFalse\u001b[0m,\n",
            "\u001b[2;32m│   \u001b[0m\u001b[32m'first_gpu'\u001b[0m: \u001b[3;91mFalse\u001b[0m,\n",
            "\u001b[2;32m│   \u001b[0m\u001b[32m'last_gpu'\u001b[0m: \u001b[3;91mFalse\u001b[0m,\n",
            "\u001b[2;32m│   \u001b[0m\u001b[32m'gpu'\u001b[0m: \u001b[32m'auto'\u001b[0m,\n",
            "\u001b[2;32m│   \u001b[0m\u001b[32m'max_edge_length_ratio'\u001b[0m: \u001b[1;36m0.25\u001b[0m,\n",
            "\u001b[2;32m│   \u001b[0m\u001b[32m'dist_penalty_weight'\u001b[0m: \u001b[1;36m1.0\u001b[0m,\n",
            "\u001b[2;32m│   \u001b[0m\u001b[32m'batch_size'\u001b[0m: \u001b[1;36m4\u001b[0m,\n",
            "\u001b[2;32m│   \u001b[0m\u001b[32m'open_in_gui'\u001b[0m: \u001b[3;91mFalse\u001b[0m,\n",
            "\u001b[2;32m│   \u001b[0m\u001b[32m'peak_threshold'\u001b[0m: \u001b[1;36m0.2\u001b[0m,\n",
            "\u001b[2;32m│   \u001b[0m\u001b[32m'max_instances'\u001b[0m: \u001b[3;35mNone\u001b[0m,\n",
            "\u001b[2;32m│   \u001b[0m\u001b[32m'tracking.tracker'\u001b[0m: \u001b[3;35mNone\u001b[0m,\n",
            "\u001b[2;32m│   \u001b[0m\u001b[32m'tracking.max_tracking'\u001b[0m: \u001b[3;35mNone\u001b[0m,\n",
            "\u001b[2;32m│   \u001b[0m\u001b[32m'tracking.max_tracks'\u001b[0m: \u001b[3;35mNone\u001b[0m,\n",
            "\u001b[2;32m│   \u001b[0m\u001b[32m'tracking.target_instance_count'\u001b[0m: \u001b[3;35mNone\u001b[0m,\n",
            "\u001b[2;32m│   \u001b[0m\u001b[32m'tracking.pre_cull_to_target'\u001b[0m: \u001b[3;35mNone\u001b[0m,\n",
            "\u001b[2;32m│   \u001b[0m\u001b[32m'tracking.pre_cull_iou_threshold'\u001b[0m: \u001b[3;35mNone\u001b[0m,\n",
            "\u001b[2;32m│   \u001b[0m\u001b[32m'tracking.post_connect_single_breaks'\u001b[0m: \u001b[3;35mNone\u001b[0m,\n",
            "\u001b[2;32m│   \u001b[0m\u001b[32m'tracking.clean_instance_count'\u001b[0m: \u001b[3;35mNone\u001b[0m,\n",
            "\u001b[2;32m│   \u001b[0m\u001b[32m'tracking.clean_iou_threshold'\u001b[0m: \u001b[3;35mNone\u001b[0m,\n",
            "\u001b[2;32m│   \u001b[0m\u001b[32m'tracking.similarity'\u001b[0m: \u001b[3;35mNone\u001b[0m,\n",
            "\u001b[2;32m│   \u001b[0m\u001b[32m'tracking.match'\u001b[0m: \u001b[3;35mNone\u001b[0m,\n",
            "\u001b[2;32m│   \u001b[0m\u001b[32m'tracking.robust'\u001b[0m: \u001b[3;35mNone\u001b[0m,\n",
            "\u001b[2;32m│   \u001b[0m\u001b[32m'tracking.track_window'\u001b[0m: \u001b[3;35mNone\u001b[0m,\n",
            "\u001b[2;32m│   \u001b[0m\u001b[32m'tracking.min_new_track_points'\u001b[0m: \u001b[3;35mNone\u001b[0m,\n",
            "\u001b[2;32m│   \u001b[0m\u001b[32m'tracking.min_match_points'\u001b[0m: \u001b[3;35mNone\u001b[0m,\n",
            "\u001b[2;32m│   \u001b[0m\u001b[32m'tracking.img_scale'\u001b[0m: \u001b[3;35mNone\u001b[0m,\n",
            "\u001b[2;32m│   \u001b[0m\u001b[32m'tracking.of_window_size'\u001b[0m: \u001b[3;35mNone\u001b[0m,\n",
            "\u001b[2;32m│   \u001b[0m\u001b[32m'tracking.of_max_levels'\u001b[0m: \u001b[3;35mNone\u001b[0m,\n",
            "\u001b[2;32m│   \u001b[0m\u001b[32m'tracking.save_shifted_instances'\u001b[0m: \u001b[3;35mNone\u001b[0m,\n",
            "\u001b[2;32m│   \u001b[0m\u001b[32m'tracking.kf_node_indices'\u001b[0m: \u001b[3;35mNone\u001b[0m,\n",
            "\u001b[2;32m│   \u001b[0m\u001b[32m'tracking.kf_init_frame_count'\u001b[0m: \u001b[3;35mNone\u001b[0m\n",
            "\u001b[1m}\u001b[0m\n",
            "\n",
            "INFO:sleap.nn.inference:Auto-selected GPU 0 with 15098 MiB of free memory.\n",
            "Versions:\n",
            "SLEAP: 1.3.3\n",
            "TensorFlow: 2.8.4\n",
            "Numpy: 1.22.4\n",
            "Python: 3.10.12\n",
            "OS: Linux-5.15.120+-x86_64-with-glibc2.35\n",
            "\n",
            "System:\n",
            "GPUs: 1/1 available\n",
            "  Device: /physical_device:GPU:0\n",
            "         Available: True\n",
            "        Initalized: False\n",
            "     Memory growth: True\n",
            "\n",
            "Traceback (most recent call last):\n",
            "  File \"/usr/local/bin/sleap-track\", line 8, in <module>\n",
            "    sys.exit(main())\n",
            "  File \"/usr/local/lib/python3.10/dist-packages/sleap/nn/inference.py\", line 5420, in main\n",
            "    predictor = _make_predictor_from_cli(args)\n",
            "  File \"/usr/local/lib/python3.10/dist-packages/sleap/nn/inference.py\", line 5312, in _make_predictor_from_cli\n",
            "    predictor: Predictor = load_model(\n",
            "  File \"/usr/local/lib/python3.10/dist-packages/sleap/nn/inference.py\", line 4855, in load_model\n",
            "    predictor: Predictor = Predictor.from_model_paths(\n",
            "  File \"/usr/local/lib/python3.10/dist-packages/sleap/nn/inference.py\", line 227, in from_model_paths\n",
            "    model_configs = [sleap.load_config(model_path) for model_path in model_paths]\n",
            "  File \"/usr/local/lib/python3.10/dist-packages/sleap/nn/inference.py\", line 227, in <listcomp>\n",
            "    model_configs = [sleap.load_config(model_path) for model_path in model_paths]\n",
            "  File \"/usr/local/lib/python3.10/dist-packages/sleap/nn/config/training_job.py\", line 157, in load_config\n",
            "    return TrainingJobConfig.load_json(\n",
            "  File \"/usr/local/lib/python3.10/dist-packages/sleap/nn/config/training_job.py\", line 119, in load_json\n",
            "    with open(filename, \"r\") as f:\n",
            "FileNotFoundError: [Errno 2] No such file or directory: 'colab_demo.bottomup'\n"
          ]
        }
      ],
      "source": [
        "!sleap-track \\\n",
        "    -m colab_demo.bottomup \\\n",
        "    --only-suggested-frames \\\n",
        "    -o colab.predicted_suggestions.slp \\\n",
        "    colab.pkg.slp"
      ]
    },
    {
      "cell_type": "markdown",
      "metadata": {
        "id": "EZEONx4xA6j_"
      },
      "source": [
        "Now, you can download the generated `colab.predicted_suggestions.slp` file and merge it into your labeling project (**File -> Merge into Project...** from the GUI) to get new predictions for your suggested frames."
      ]
    },
    {
      "cell_type": "markdown",
      "metadata": {
        "id": "2LFbpLbaA6j_"
      },
      "source": [
        "### Predicting and tracking instances in uploaded video\n",
        "Let's first upload the video we want to run inference on and name it `colab_demo.mp4`. (If your video is not named `colab_demo.mp4`, adjust the names below accordingly.)\n",
        "\n",
        "For this demo we'll just get predictions for the first 200 frames (or you can adjust the --frames parameter below or remove it to run on the whole video)."
      ]
    },
    {
      "cell_type": "code",
      "execution_count": null,
      "metadata": {
        "id": "CLtjtq9E1Znr"
      },
      "outputs": [],
      "source": [
        "!sleap-track colab_demo.mp4 \\\n",
        "    --frames 0-200 \\\n",
        "    --tracking.tracker simple \\\n",
        "    -m colab_demo.bottomup"
      ]
    },
    {
      "cell_type": "markdown",
      "metadata": {
        "id": "nzObCUToEqwA"
      },
      "source": [
        "When inference is finished, it will save the predictions in a file which can be opened in the GUI as a SLEAP project file. The file will be in the same directory as the video and the filename will be `{video filename}.predictions.slp`.\n",
        "\n",
        "Let's inspect the predictions file:"
      ]
    },
    {
      "cell_type": "code",
      "execution_count": null,
      "metadata": {
        "id": "nPfmNMSt-vS7"
      },
      "outputs": [],
      "source": [
        "!sleap-inspect colab_demo.mp4.predictions.slp"
      ]
    },
    {
      "cell_type": "markdown",
      "metadata": {
        "id": "LoJ2kNBK-w6k"
      },
      "source": [
        "You can copy this file from your Google Drive to a local drive and open it in the SLEAP GUI app (or open it directly if you have your Google Drive mounted on your local machine). If the video is in the same directory as the predictions file, SLEAP will automatically find it; otherwise, you'll be prompted to locate the video (since the path to the video on your local machine will be different than the path to the video on Colab)."
      ]
    },
    {
      "cell_type": "markdown",
      "metadata": {
        "id": "qW-NoJOFvYHM"
      },
      "source": [
        "### Inference with top-down models\n",
        "\n",
        "If you trained the pair of models needed for top-down inference, you can call `sleap-track` with `-m path/to/model` for each model, like so:"
      ]
    },
    {
      "cell_type": "code",
      "execution_count": null,
      "metadata": {
        "id": "QPKnMc1qvim7"
      },
      "outputs": [],
      "source": [
        "!sleap-track colab_demo.mp4 \\\n",
        "    --frames 0-200 \\\n",
        "    --tracking.tracker simple \\\n",
        "    -m colab_demo.centered_instance \\\n",
        "    -m colab_demo.centroid"
      ]
    }
  ],
  "metadata": {
    "accelerator": "GPU",
    "colab": {
      "provenance": [],
      "include_colab_link": true
    },
    "kernelspec": {
      "display_name": "Python 3",
      "language": "python",
      "name": "python3"
    },
    "language_info": {
      "codemirror_mode": {
        "name": "ipython",
        "version": 3
      },
      "file_extension": ".py",
      "mimetype": "text/x-python",
      "name": "python",
      "nbconvert_exporter": "python",
      "pygments_lexer": "ipython3",
      "version": "3.7.12"
    }
  },
  "nbformat": 4,
  "nbformat_minor": 0
}