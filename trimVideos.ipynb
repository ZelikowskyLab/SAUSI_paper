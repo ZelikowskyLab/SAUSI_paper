{
 "cells": [
  {
   "cell_type": "code",
   "execution_count": 3,
   "metadata": {},
   "outputs": [
    {
     "name": "stdout",
     "output_type": "stream",
     "text": [
      "Requirement already satisfied: imageio in c:\\users\\moriel\\anaconda3\\lib\\site-packages (2.4.1)\n",
      "Requirement already satisfied: pillow in c:\\users\\moriel\\anaconda3\\lib\\site-packages (from imageio) (8.0.1)\n",
      "Requirement already satisfied: numpy in c:\\users\\moriel\\anaconda3\\lib\\site-packages (from imageio) (1.24.4)\n",
      "Note: you may need to restart the kernel to use updated packages.\n"
     ]
    }
   ],
   "source": [
    "#dont need to run each time\n",
    "#solves ffmpeg errror\n",
    "#pip install imageio\n",
    "#import imageio\n",
    "#imageio.plugins.ffmpeg.download()"
   ]
  },
  {
   "cell_type": "code",
   "execution_count": 81,
   "metadata": {},
   "outputs": [],
   "source": [
    "#import moviepy for usage\n",
    "from moviepy.editor import *"
   ]
  },
  {
   "cell_type": "code",
   "execution_count": 82,
   "metadata": {},
   "outputs": [],
   "source": [
    "# loading video gfg\n",
    "#clip = VideoFileClip(\"C:/Users/moriel/Documents/SLEAP/Jordan/EASI_topView_bottomUp_4pSkeleton/Vidoes & Predictions_deleteVideosPostTrackEditing/77_top.mp4\")\n",
    "clip = VideoFileClip(r\"C:\\Users\\moriel\\Documents\\SLEAP\\Sewon\\Partner stress\\Group4_4.mp4\")"
   ]
  },
  {
   "cell_type": "code",
   "execution_count": 83,
   "metadata": {},
   "outputs": [],
   "source": [
    "# convert frames to seconds\n",
    "# start_frame = 0\n",
    "# start_time = start_frame / 30\n",
    "# end_time = start_time + 600\n",
    "start_frame = 6090\n",
    "start_time = start_frame / 30\n",
    "end_time = start_time + 600"
   ]
  },
  {
   "cell_type": "code",
   "execution_count": 84,
   "metadata": {},
   "outputs": [],
   "source": [
    "# getting only 10 min test phase. (start in seconds, end in seconds)\n",
    "clip = clip.subclip(start_time, end_time)"
   ]
  },
  {
   "cell_type": "code",
   "execution_count": null,
   "metadata": {},
   "outputs": [
    {
     "name": "stderr",
     "output_type": "stream",
     "text": [
      "t:   0%|                                                                 | 15/18000 [00:00<02:02, 147.15it/s, now=None]"
     ]
    },
    {
     "name": "stdout",
     "output_type": "stream",
     "text": [
      "Moviepy - Building video Group4_4_trim.mp4.\n",
      "Moviepy - Writing video Group4_4_trim.mp4\n",
      "\n"
     ]
    },
    {
     "name": "stderr",
     "output_type": "stream",
     "text": [
      "t:  67%|██████████████████████████████████████████                     | 12011/18000 [03:00<01:44, 57.56it/s, now=None]"
     ]
    }
   ],
   "source": [
    "# showing & saving  clip as \"__temp__.mp4\". max duration set just over 10minutes (600 seconds)\n",
    "#clip.ipython_display(maxduration=601) #width = 360\n",
    "# video location: C:\\Users\\moriel\\Documents\\SimBA_testing\n",
    "#clip.write_videofile('77.mp4')\n",
    "clip.write_videofile('Group4_4_trim.mp4')"
   ]
  },
  {
   "cell_type": "code",
   "execution_count": null,
   "metadata": {},
   "outputs": [],
   "source": []
  }
 ],
 "metadata": {
  "kernelspec": {
   "display_name": "Python 3",
   "language": "python",
   "name": "python3"
  },
  "language_info": {
   "codemirror_mode": {
    "name": "ipython",
    "version": 3
   },
   "file_extension": ".py",
   "mimetype": "text/x-python",
   "name": "python",
   "nbconvert_exporter": "python",
   "pygments_lexer": "ipython3",
   "version": "3.8.5"
  }
 },
 "nbformat": 4,
 "nbformat_minor": 4
}
