{
 "cells": [
  {
   "cell_type": "code",
   "execution_count": 4,
   "id": "81b3559f-3b2a-4184-a7f9-ae7bb1eb0ab3",
   "metadata": {},
   "outputs": [
    {
     "name": "stdout",
     "output_type": "stream",
     "text": [
      "Average values saved to average_output.xlsx\n",
      "Median values saved to median_output.xlsx\n"
     ]
    }
   ],
   "source": [
    "#use this code to create a single excel file that contains the average or median values for each USV attribute measured in DeepSqueak for all mice in an experiment.\n",
    "#you will need to export all files from deepSqueak as .xlsx files and put them all in a folder together. \n",
    "import os\n",
    "import pandas as pd\n",
    "\n",
    "# Function to calculate average and median for a DataFrame\n",
    "def calculate_statistics(df):\n",
    "    averages = df.select_dtypes(include='number').mean()\n",
    "    medians = df.select_dtypes(include='number').median()\n",
    "    return averages, medians\n",
    "\n",
    "# Path to the folder containing Excel files\n",
    "folder_path = \"sefl_sausi_m\" #\"C:\\jordan_temp\\cailtin_sausi\\deepSqueak\"\n",
    "\n",
    "# Initialize empty DataFrames for average scores and median scores\n",
    "average_results_df = pd.DataFrame()\n",
    "median_results_df = pd.DataFrame()\n",
    "\n",
    "# Iterate over each file in the folder\n",
    "for file_name in os.listdir(folder_path):\n",
    "    if file_name.endswith(\".xlsx\"):\n",
    "        # Read the Excel file\n",
    "        file_path = os.path.join(folder_path, file_name)\n",
    "        df = pd.read_excel(file_path)\n",
    "        \n",
    "        # Calculate statistics for the current file\n",
    "        averages, medians = calculate_statistics(df)\n",
    "        \n",
    "        # Create DataFrames for average and median results\n",
    "        average_df = pd.DataFrame({'File': file_name, 'Column': averages.index, 'Value': averages.values})\n",
    "        median_df = pd.DataFrame({'File': file_name, 'Column': medians.index, 'Value': medians.values})\n",
    "        \n",
    "        # Append the results to the appropriate DataFrame\n",
    "        average_results_df = pd.concat([average_results_df, average_df], ignore_index=True)\n",
    "        median_results_df = pd.concat([median_results_df, median_df], ignore_index=True)\n",
    "\n",
    "# Pivot the DataFrames\n",
    "average_results_df = average_results_df.pivot_table(index=['File'], columns='Column', values='Value').reset_index()\n",
    "median_results_df = median_results_df.pivot_table(index=['File'], columns='Column', values='Value').reset_index()\n",
    "\n",
    "# Write the results to separate Excel files\n",
    "average_output_file_path = \"average_output.xlsx\"\n",
    "median_output_file_path = \"median_output.xlsx\"\n",
    "\n",
    "average_results_df.to_excel(average_output_file_path, index=False)\n",
    "median_results_df.to_excel(median_output_file_path, index=False)\n",
    "\n",
    "print(\"Average values saved to\", average_output_file_path)\n",
    "print(\"Median values saved to\", median_output_file_path)\n"
   ]
  },
  {
   "cell_type": "code",
   "execution_count": 5,
   "id": "f0b79d0c-c993-4986-812e-59706aa2ece7",
   "metadata": {},
   "outputs": [
    {
     "name": "stdout",
     "output_type": "stream",
     "text": [
      "Number of numerical values saved to number_of_usvs.xlsx\n"
     ]
    }
   ],
   "source": [
    "#run this code to generate a single excel spreadsheet containing the number of USVs made for each mouse in an experiment.\n",
    "#use the DeepSqueak data as described above.\n",
    "import os\n",
    "import pandas as pd\n",
    "\n",
    "# Function to count the number of numerical values in the first column of a DataFrame\n",
    "def count_numerical_values(df):\n",
    "    first_column = df.iloc[:, 0]\n",
    "    numerical_values = pd.to_numeric(first_column, errors='coerce')\n",
    "    numerical_values = numerical_values.dropna()\n",
    "    return len(numerical_values)\n",
    "\n",
    "# Path to the folder containing Excel files\n",
    "folder_path = \"sefl_sausi_m\"  # Replace with your actual folder path\n",
    "\n",
    "# Initialize an empty DataFrame for number of numerical values\n",
    "num_values_df = pd.DataFrame(columns=['File', 'Num_Numerical_Values'])\n",
    "\n",
    "# Iterate over each file in the folder\n",
    "for file_name in os.listdir(folder_path):\n",
    "    if file_name.endswith(\".xlsx\"):\n",
    "        # Read the Excel file\n",
    "        file_path = os.path.join(folder_path, file_name)\n",
    "        df = pd.read_excel(file_path)\n",
    "        \n",
    "        # Count the number of numerical values in the first column\n",
    "        num_numerical_values = count_numerical_values(df)\n",
    "        \n",
    "        # Create a new DataFrame for the current file's result\n",
    "        new_row = pd.DataFrame({'File': [file_name], 'Num_Numerical_Values': [num_numerical_values]})\n",
    "        \n",
    "        # Concatenate the new row to the existing DataFrame\n",
    "        num_values_df = pd.concat([num_values_df, new_row], ignore_index=True)\n",
    "\n",
    "# Write the results to a separate Excel file\n",
    "output_file_path = \"number_of_usvs.xlsx\"\n",
    "num_values_df.to_excel(output_file_path, index=False)\n",
    "\n",
    "print(\"Number of numerical values saved to\", output_file_path)\n"
   ]
  },
  {
   "cell_type": "code",
   "execution_count": null,
   "id": "f968424f-bf94-40fc-a323-09feb86a777a",
   "metadata": {},
   "outputs": [],
   "source": []
  }
 ],
 "metadata": {
  "kernelspec": {
   "display_name": "Python 3 (ipykernel)",
   "language": "python",
   "name": "python3"
  },
  "language_info": {
   "codemirror_mode": {
    "name": "ipython",
    "version": 3
   },
   "file_extension": ".py",
   "mimetype": "text/x-python",
   "name": "python",
   "nbconvert_exporter": "python",
   "pygments_lexer": "ipython3",
   "version": "3.11.7"
  }
 },
 "nbformat": 4,
 "nbformat_minor": 5
}
